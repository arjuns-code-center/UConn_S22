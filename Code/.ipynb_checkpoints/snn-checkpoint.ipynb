{
 "cells": [
  {
   "cell_type": "raw",
   "id": "ff6355e5",
   "metadata": {
    "id": "44d9d95f"
   },
   "source": [
    "# Author: Arjun Viswanathan\n",
    "# Date Created: 5/26/22\n",
    "# Creating a Siamese Neural Network (SNN) architecture using PyTorch.\n",
    "# Network takes in 2 sets of inputs, and trains on them to gives 1 output, which can be the eutectic proportion or temperature.\n",
    "# Currently using eutectic proportions."
   ]
  },
  {
   "cell_type": "code",
   "execution_count": 1,
   "id": "8ae6463a",
   "metadata": {
    "executionInfo": {
     "elapsed": 1568,
     "status": "ok",
     "timestamp": 1654188896478,
     "user": {
      "displayName": "Arjun Viswanathan",
      "userId": "09010050134735347675"
     },
     "user_tz": 240
    },
    "id": "8ae6463a"
   },
   "outputs": [],
   "source": [
    "import torch\n",
    "import pandas as pd\n",
    "import numpy as np\n",
    "from matplotlib import pyplot as plt\n",
    "from torch.nn import Module, Conv2d, MaxPool2d, Linear, Dropout, BatchNorm1d\n",
    "import torch.nn.functional as F\n",
    "from torch.utils.data import DataLoader, Dataset"
   ]
  },
  {
   "cell_type": "code",
   "execution_count": 2,
   "id": "c576c58d",
   "metadata": {
    "executionInfo": {
     "elapsed": 9,
     "status": "ok",
     "timestamp": 1654188896481,
     "user": {
      "displayName": "Arjun Viswanathan",
      "userId": "09010050134735347675"
     },
     "user_tz": 240
    },
    "id": "c576c58d"
   },
   "outputs": [],
   "source": [
    "# define parameters for training and device\n",
    "starting_features = 5\n",
    "batchsize = 20\n",
    "num_epochs = 10\n",
    "# If a GPU is available, then send it to that GPU rather than train on CPU\n",
    "device = torch.device(\"cuda:0\" if torch.cuda.is_available() else \"cpu\")"
   ]
  },
  {
   "cell_type": "code",
   "execution_count": 3,
   "id": "724168f1",
   "metadata": {
    "id": "724168f1"
   },
   "outputs": [
    {
     "data": {
      "text/plain": [
       "device(type='cuda', index=0)"
      ]
     },
     "execution_count": 3,
     "metadata": {},
     "output_type": "execute_result"
    }
   ],
   "source": [
    "device"
   ]
  },
  {
   "cell_type": "code",
   "execution_count": 4,
   "id": "778839b4",
   "metadata": {
    "id": "778839b4"
   },
   "outputs": [],
   "source": [
    "# Load the dataset. \n",
    "# molecule_features: First col is a string containing name of molecule. Rest are floats containing its features\n",
    "# eutectic_compilation: First 2 cols are strings containing molecule names, third col is eutectic proportion, fourth is eutectic temperature\n",
    "\n",
    "molecule_features = pd.read_csv(\"D:\\\\Research\\\\UConn_ML\\\\Code\\\\data\\\\eutectic_mixtures-main\\\\single_components.csv\").drop([\"xlogp\"], axis=1)\n",
    "eutectic_compilation = pd.read_csv(\"D:\\\\Research\\\\UConn_ML\\\\Code\\\\data\\\\eutectic_mixtures-main\\\\eutectic_compilation.csv\")\n",
    "\n",
    "molecule_features[molecule_features.columns[1:]] = molecule_features[molecule_features.columns[1:]].astype(float)\n",
    "eutectic_compilation[eutectic_compilation.columns[3]] = eutectic_compilation[eutectic_compilation.columns[3]].astype(float)"
   ]
  },
  {
   "cell_type": "code",
   "execution_count": 5,
   "id": "5053794b",
   "metadata": {},
   "outputs": [],
   "source": [
    "# Some indices in eutectic_compilation do not exist in single_components. They will need to be removed.\n",
    "# Some of the eutectic proportions are inconvertible to floats from strings. They will also need to be removed.\n",
    "# missing_molecules will store all molecules that are missing features from eutectic_compilation\n",
    "drops = np.array([]).astype(int)\n",
    "missing_molecules = np.array([]).astype(str)\n",
    "for i in range(len(eutectic_compilation)):\n",
    "    ec = eutectic_compilation.iloc[i]\n",
    "    m1 = ec[0]\n",
    "    m2 = ec[1]\n",
    "    xe = ec[2]\n",
    "    \n",
    "    m1f = molecule_features.loc[molecule_features.mol == ec[0]]\n",
    "    m2f = molecule_features.loc[molecule_features.mol == ec[1]]\n",
    "    \n",
    "    try:\n",
    "        xe = float(xe)\n",
    "    except ValueError:\n",
    "        drops = np.append(drops, i)\n",
    "    \n",
    "    if(len(m1f) == 0 or len(m2f) == 0):\n",
    "        drops = np.append(drops, i)\n",
    "        \n",
    "        if(len(m1f) == 0):\n",
    "            missing_molecules = np.append(missing_molecules, m1)\n",
    "        elif(len(m2f) == 0):\n",
    "            missing_molecules = np.append(missing_molecules, m2)\n",
    "\n",
    "eutectic_compilation = eutectic_compilation.drop(eutectic_compilation.index[drops])\n",
    "# np.savetxt(\"missing_molecules.csv\", missing_molecules, delimiter=\",\", fmt=\"%s\")"
   ]
  },
  {
   "cell_type": "code",
   "execution_count": 6,
   "id": "a7928bb9",
   "metadata": {},
   "outputs": [],
   "source": [
    "# Split the eutectic compilation dataframe by a ratio into training and testing sets\n",
    "split = 0.85\n",
    "train_ec = eutectic_compilation.sample(frac=split)\n",
    "test_ec = eutectic_compilation.drop(train_ec.index)"
   ]
  },
  {
   "cell_type": "code",
   "execution_count": 7,
   "id": "068a9663",
   "metadata": {},
   "outputs": [
    {
     "data": {
      "text/html": [
       "<div>\n",
       "<style scoped>\n",
       "    .dataframe tbody tr th:only-of-type {\n",
       "        vertical-align: middle;\n",
       "    }\n",
       "\n",
       "    .dataframe tbody tr th {\n",
       "        vertical-align: top;\n",
       "    }\n",
       "\n",
       "    .dataframe thead th {\n",
       "        text-align: right;\n",
       "    }\n",
       "</style>\n",
       "<table border=\"1\" class=\"dataframe\">\n",
       "  <thead>\n",
       "    <tr style=\"text-align: right;\">\n",
       "      <th></th>\n",
       "      <th>mol</th>\n",
       "      <th>molecular_weight</th>\n",
       "      <th>complexity</th>\n",
       "      <th>rotatable_bond_count</th>\n",
       "      <th>heavy_atom_count</th>\n",
       "      <th>topological_area</th>\n",
       "    </tr>\n",
       "  </thead>\n",
       "  <tbody>\n",
       "    <tr>\n",
       "      <th>0</th>\n",
       "      <td>BaO</td>\n",
       "      <td>153.3300</td>\n",
       "      <td>2.0</td>\n",
       "      <td>0.0</td>\n",
       "      <td>2.0</td>\n",
       "      <td>17.1</td>\n",
       "    </tr>\n",
       "    <tr>\n",
       "      <th>1</th>\n",
       "      <td>CrCl3</td>\n",
       "      <td>158.3500</td>\n",
       "      <td>0.0</td>\n",
       "      <td>0.0</td>\n",
       "      <td>4.0</td>\n",
       "      <td>0.0</td>\n",
       "    </tr>\n",
       "    <tr>\n",
       "      <th>2</th>\n",
       "      <td>PBr5</td>\n",
       "      <td>430.4900</td>\n",
       "      <td>37.1</td>\n",
       "      <td>0.0</td>\n",
       "      <td>6.0</td>\n",
       "      <td>0.0</td>\n",
       "    </tr>\n",
       "    <tr>\n",
       "      <th>3</th>\n",
       "      <td>WCl5</td>\n",
       "      <td>361.1000</td>\n",
       "      <td>37.1</td>\n",
       "      <td>0.0</td>\n",
       "      <td>6.0</td>\n",
       "      <td>0.0</td>\n",
       "    </tr>\n",
       "    <tr>\n",
       "      <th>4</th>\n",
       "      <td>HgI2</td>\n",
       "      <td>454.4000</td>\n",
       "      <td>2.8</td>\n",
       "      <td>0.0</td>\n",
       "      <td>3.0</td>\n",
       "      <td>0.0</td>\n",
       "    </tr>\n",
       "    <tr>\n",
       "      <th>...</th>\n",
       "      <td>...</td>\n",
       "      <td>...</td>\n",
       "      <td>...</td>\n",
       "      <td>...</td>\n",
       "      <td>...</td>\n",
       "      <td>...</td>\n",
       "    </tr>\n",
       "    <tr>\n",
       "      <th>672</th>\n",
       "      <td>PBr3</td>\n",
       "      <td>270.6900</td>\n",
       "      <td>8.0</td>\n",
       "      <td>0.0</td>\n",
       "      <td>4.0</td>\n",
       "      <td>0.0</td>\n",
       "    </tr>\n",
       "    <tr>\n",
       "      <th>673</th>\n",
       "      <td>PbSiO3</td>\n",
       "      <td>283.0000</td>\n",
       "      <td>18.8</td>\n",
       "      <td>0.0</td>\n",
       "      <td>5.0</td>\n",
       "      <td>63.2</td>\n",
       "    </tr>\n",
       "    <tr>\n",
       "      <th>674</th>\n",
       "      <td>LiI</td>\n",
       "      <td>133.9000</td>\n",
       "      <td>2.0</td>\n",
       "      <td>0.0</td>\n",
       "      <td>2.0</td>\n",
       "      <td>0.0</td>\n",
       "    </tr>\n",
       "    <tr>\n",
       "      <th>675</th>\n",
       "      <td>EuF3</td>\n",
       "      <td>208.9590</td>\n",
       "      <td>8.0</td>\n",
       "      <td>0.0</td>\n",
       "      <td>4.0</td>\n",
       "      <td>0.0</td>\n",
       "    </tr>\n",
       "    <tr>\n",
       "      <th>676</th>\n",
       "      <td>TaF5</td>\n",
       "      <td>275.9399</td>\n",
       "      <td>37.1</td>\n",
       "      <td>0.0</td>\n",
       "      <td>6.0</td>\n",
       "      <td>0.0</td>\n",
       "    </tr>\n",
       "  </tbody>\n",
       "</table>\n",
       "<p>677 rows × 6 columns</p>\n",
       "</div>"
      ],
      "text/plain": [
       "        mol  molecular_weight  complexity  rotatable_bond_count  \\\n",
       "0       BaO          153.3300         2.0                   0.0   \n",
       "1     CrCl3          158.3500         0.0                   0.0   \n",
       "2      PBr5          430.4900        37.1                   0.0   \n",
       "3      WCl5          361.1000        37.1                   0.0   \n",
       "4      HgI2          454.4000         2.8                   0.0   \n",
       "..      ...               ...         ...                   ...   \n",
       "672    PBr3          270.6900         8.0                   0.0   \n",
       "673  PbSiO3          283.0000        18.8                   0.0   \n",
       "674     LiI          133.9000         2.0                   0.0   \n",
       "675    EuF3          208.9590         8.0                   0.0   \n",
       "676    TaF5          275.9399        37.1                   0.0   \n",
       "\n",
       "     heavy_atom_count  topological_area  \n",
       "0                 2.0              17.1  \n",
       "1                 4.0               0.0  \n",
       "2                 6.0               0.0  \n",
       "3                 6.0               0.0  \n",
       "4                 3.0               0.0  \n",
       "..                ...               ...  \n",
       "672               4.0               0.0  \n",
       "673               5.0              63.2  \n",
       "674               2.0               0.0  \n",
       "675               4.0               0.0  \n",
       "676               6.0               0.0  \n",
       "\n",
       "[677 rows x 6 columns]"
      ]
     },
     "execution_count": 7,
     "metadata": {},
     "output_type": "execute_result"
    }
   ],
   "source": [
    "molecule_features"
   ]
  },
  {
   "cell_type": "code",
   "execution_count": 8,
   "id": "add4c221",
   "metadata": {},
   "outputs": [
    {
     "data": {
      "text/html": [
       "<div>\n",
       "<style scoped>\n",
       "    .dataframe tbody tr th:only-of-type {\n",
       "        vertical-align: middle;\n",
       "    }\n",
       "\n",
       "    .dataframe tbody tr th {\n",
       "        vertical-align: top;\n",
       "    }\n",
       "\n",
       "    .dataframe thead th {\n",
       "        text-align: right;\n",
       "    }\n",
       "</style>\n",
       "<table border=\"1\" class=\"dataframe\">\n",
       "  <thead>\n",
       "    <tr style=\"text-align: right;\">\n",
       "      <th></th>\n",
       "      <th>molA</th>\n",
       "      <th>molB</th>\n",
       "      <th>xe</th>\n",
       "      <th>Te</th>\n",
       "    </tr>\n",
       "  </thead>\n",
       "  <tbody>\n",
       "    <tr>\n",
       "      <th>3926</th>\n",
       "      <td>P2O5</td>\n",
       "      <td>SrO</td>\n",
       "      <td>48</td>\n",
       "      <td>970.0</td>\n",
       "    </tr>\n",
       "    <tr>\n",
       "      <th>2000</th>\n",
       "      <td>KI</td>\n",
       "      <td>NaCl</td>\n",
       "      <td>57</td>\n",
       "      <td>510.0</td>\n",
       "    </tr>\n",
       "    <tr>\n",
       "      <th>2023</th>\n",
       "      <td>CrCl2</td>\n",
       "      <td>CsCl</td>\n",
       "      <td>19.1</td>\n",
       "      <td>515.0</td>\n",
       "    </tr>\n",
       "    <tr>\n",
       "      <th>1269</th>\n",
       "      <td>KCl</td>\n",
       "      <td>KClO3</td>\n",
       "      <td>13.1</td>\n",
       "      <td>345.0</td>\n",
       "    </tr>\n",
       "    <tr>\n",
       "      <th>1923</th>\n",
       "      <td>CaCl</td>\n",
       "      <td>MnCl2</td>\n",
       "      <td>79.5</td>\n",
       "      <td>499.0</td>\n",
       "    </tr>\n",
       "    <tr>\n",
       "      <th>...</th>\n",
       "      <td>...</td>\n",
       "      <td>...</td>\n",
       "      <td>...</td>\n",
       "      <td>...</td>\n",
       "    </tr>\n",
       "    <tr>\n",
       "      <th>1556</th>\n",
       "      <td>CaCl2</td>\n",
       "      <td>TlCl</td>\n",
       "      <td>7.5</td>\n",
       "      <td>420.0</td>\n",
       "    </tr>\n",
       "    <tr>\n",
       "      <th>1992</th>\n",
       "      <td>BaCl2</td>\n",
       "      <td>LiCl</td>\n",
       "      <td>33</td>\n",
       "      <td>510.0</td>\n",
       "    </tr>\n",
       "    <tr>\n",
       "      <th>305</th>\n",
       "      <td>AlOCl</td>\n",
       "      <td>NbCl5</td>\n",
       "      <td>42.9</td>\n",
       "      <td>135.0</td>\n",
       "    </tr>\n",
       "    <tr>\n",
       "      <th>4115</th>\n",
       "      <td>BaO</td>\n",
       "      <td>TiO2</td>\n",
       "      <td>32</td>\n",
       "      <td>1315.0</td>\n",
       "    </tr>\n",
       "    <tr>\n",
       "      <th>3416</th>\n",
       "      <td>CaCl2</td>\n",
       "      <td>CaO</td>\n",
       "      <td>94</td>\n",
       "      <td>757.0</td>\n",
       "    </tr>\n",
       "  </tbody>\n",
       "</table>\n",
       "<p>3383 rows × 4 columns</p>\n",
       "</div>"
      ],
      "text/plain": [
       "       molA   molB    xe      Te\n",
       "3926   P2O5    SrO    48   970.0\n",
       "2000     KI   NaCl    57   510.0\n",
       "2023  CrCl2   CsCl  19.1   515.0\n",
       "1269    KCl  KClO3  13.1   345.0\n",
       "1923   CaCl  MnCl2  79.5   499.0\n",
       "...     ...    ...   ...     ...\n",
       "1556  CaCl2   TlCl   7.5   420.0\n",
       "1992  BaCl2   LiCl    33   510.0\n",
       "305   AlOCl  NbCl5  42.9   135.0\n",
       "4115    BaO   TiO2    32  1315.0\n",
       "3416  CaCl2    CaO    94   757.0\n",
       "\n",
       "[3383 rows x 4 columns]"
      ]
     },
     "execution_count": 8,
     "metadata": {},
     "output_type": "execute_result"
    }
   ],
   "source": [
    "train_ec"
   ]
  },
  {
   "cell_type": "code",
   "execution_count": 9,
   "id": "c4939382",
   "metadata": {},
   "outputs": [
    {
     "data": {
      "text/html": [
       "<div>\n",
       "<style scoped>\n",
       "    .dataframe tbody tr th:only-of-type {\n",
       "        vertical-align: middle;\n",
       "    }\n",
       "\n",
       "    .dataframe tbody tr th {\n",
       "        vertical-align: top;\n",
       "    }\n",
       "\n",
       "    .dataframe thead th {\n",
       "        text-align: right;\n",
       "    }\n",
       "</style>\n",
       "<table border=\"1\" class=\"dataframe\">\n",
       "  <thead>\n",
       "    <tr style=\"text-align: right;\">\n",
       "      <th></th>\n",
       "      <th>molA</th>\n",
       "      <th>molB</th>\n",
       "      <th>xe</th>\n",
       "      <th>Te</th>\n",
       "    </tr>\n",
       "  </thead>\n",
       "  <tbody>\n",
       "    <tr>\n",
       "      <th>8</th>\n",
       "      <td>TiCl4</td>\n",
       "      <td>VOCl3</td>\n",
       "      <td>18</td>\n",
       "      <td>-88.0</td>\n",
       "    </tr>\n",
       "    <tr>\n",
       "      <th>21</th>\n",
       "      <td>SiCl4</td>\n",
       "      <td>TeCl4</td>\n",
       "      <td>99</td>\n",
       "      <td>-68.0</td>\n",
       "    </tr>\n",
       "    <tr>\n",
       "      <th>23</th>\n",
       "      <td>AsBr3</td>\n",
       "      <td>S2Br2</td>\n",
       "      <td>13.5</td>\n",
       "      <td>-56.0</td>\n",
       "    </tr>\n",
       "    <tr>\n",
       "      <th>28</th>\n",
       "      <td>GeCl4</td>\n",
       "      <td>SnCl4</td>\n",
       "      <td>91</td>\n",
       "      <td>-51.3</td>\n",
       "    </tr>\n",
       "    <tr>\n",
       "      <th>33</th>\n",
       "      <td>SbCl5</td>\n",
       "      <td>TiCl4</td>\n",
       "      <td>35</td>\n",
       "      <td>-47.5</td>\n",
       "    </tr>\n",
       "    <tr>\n",
       "      <th>...</th>\n",
       "      <td>...</td>\n",
       "      <td>...</td>\n",
       "      <td>...</td>\n",
       "      <td>...</td>\n",
       "    </tr>\n",
       "    <tr>\n",
       "      <th>4450</th>\n",
       "      <td>Sc2O3</td>\n",
       "      <td>UO2</td>\n",
       "      <td>82</td>\n",
       "      <td>2280.0</td>\n",
       "    </tr>\n",
       "    <tr>\n",
       "      <th>4454</th>\n",
       "      <td>SrO</td>\n",
       "      <td>ZrO2</td>\n",
       "      <td>25</td>\n",
       "      <td>2300.0</td>\n",
       "    </tr>\n",
       "    <tr>\n",
       "      <th>4458</th>\n",
       "      <td>CaO</td>\n",
       "      <td>MgO</td>\n",
       "      <td>59.3</td>\n",
       "      <td>2370.0</td>\n",
       "    </tr>\n",
       "    <tr>\n",
       "      <th>4459</th>\n",
       "      <td>CeO2</td>\n",
       "      <td>ZrO2</td>\n",
       "      <td>53</td>\n",
       "      <td>2390.0</td>\n",
       "    </tr>\n",
       "    <tr>\n",
       "      <th>4463</th>\n",
       "      <td>Sc2O3</td>\n",
       "      <td>ZrO2</td>\n",
       "      <td>52.2</td>\n",
       "      <td>2450.0</td>\n",
       "    </tr>\n",
       "  </tbody>\n",
       "</table>\n",
       "<p>597 rows × 4 columns</p>\n",
       "</div>"
      ],
      "text/plain": [
       "       molA   molB    xe      Te\n",
       "8     TiCl4  VOCl3    18   -88.0\n",
       "21    SiCl4  TeCl4    99   -68.0\n",
       "23    AsBr3  S2Br2  13.5   -56.0\n",
       "28    GeCl4  SnCl4    91   -51.3\n",
       "33    SbCl5  TiCl4    35   -47.5\n",
       "...     ...    ...   ...     ...\n",
       "4450  Sc2O3    UO2    82  2280.0\n",
       "4454    SrO   ZrO2    25  2300.0\n",
       "4458    CaO    MgO  59.3  2370.0\n",
       "4459   CeO2   ZrO2    53  2390.0\n",
       "4463  Sc2O3   ZrO2  52.2  2450.0\n",
       "\n",
       "[597 rows x 4 columns]"
      ]
     },
     "execution_count": 9,
     "metadata": {},
     "output_type": "execute_result"
    }
   ],
   "source": [
    "test_ec"
   ]
  },
  {
   "cell_type": "code",
   "execution_count": 10,
   "id": "d9c1f152",
   "metadata": {},
   "outputs": [
    {
     "name": "stdout",
     "output_type": "stream",
     "text": [
      "Index(['mol', 'molecular_weight', 'complexity', 'rotatable_bond_count',\n",
      "       'heavy_atom_count', 'topological_area'],\n",
      "      dtype='object')\n",
      "Index(['molA', 'molB', 'xe', 'Te'], dtype='object')\n"
     ]
    }
   ],
   "source": [
    "print(molecule_features.columns)\n",
    "print(eutectic_compilation.columns)"
   ]
  },
  {
   "cell_type": "code",
   "execution_count": 11,
   "id": "f1a7b6ee",
   "metadata": {},
   "outputs": [
    {
     "name": "stdout",
     "output_type": "stream",
     "text": [
      "mol                      object\n",
      "molecular_weight        float64\n",
      "complexity              float64\n",
      "rotatable_bond_count    float64\n",
      "heavy_atom_count        float64\n",
      "topological_area        float64\n",
      "dtype: object\n",
      "molA     object\n",
      "molB     object\n",
      "xe       object\n",
      "Te      float64\n",
      "dtype: object\n"
     ]
    }
   ],
   "source": [
    "print(molecule_features.dtypes)\n",
    "print(eutectic_compilation.dtypes)"
   ]
  },
  {
   "cell_type": "code",
   "execution_count": 12,
   "id": "5bf28135",
   "metadata": {},
   "outputs": [
    {
     "data": {
      "text/plain": [
       "mol                        BaO\n",
       "molecular_weight        153.33\n",
       "complexity                 2.0\n",
       "rotatable_bond_count       0.0\n",
       "heavy_atom_count           2.0\n",
       "topological_area          17.1\n",
       "Name: 0, dtype: object"
      ]
     },
     "execution_count": 12,
     "metadata": {},
     "output_type": "execute_result"
    }
   ],
   "source": [
    "molecule_features.iloc[0]"
   ]
  },
  {
   "cell_type": "code",
   "execution_count": 13,
   "id": "b01315d1",
   "metadata": {},
   "outputs": [
    {
     "name": "stdout",
     "output_type": "stream",
     "text": [
      "Train Size:  3383\n",
      "Test Size:  597\n"
     ]
    }
   ],
   "source": [
    "print(\"Train Size: \", len(train_ec))\n",
    "print(\"Test Size: \", len(test_ec))"
   ]
  },
  {
   "cell_type": "code",
   "execution_count": 14,
   "id": "02b397de",
   "metadata": {},
   "outputs": [
    {
     "name": "stdout",
     "output_type": "stream",
     "text": [
      "molA      BF3\n",
      "molB      N2O\n",
      "xe       76.6\n",
      "Te     -138.0\n",
      "Name: 0, dtype: object\n",
      "\n",
      "\n",
      "Molecule A:  BF3\n",
      "Molecule B:  N2O\n",
      "\n",
      "\n",
      "Molecule A Features:  tensor([67.8100,  8.0000,  0.0000,  4.0000,  0.0000], dtype=torch.float64)\n",
      "Molecule B Features:  tensor([44.0130, 25.8000,  0.0000,  3.0000, 19.1000], dtype=torch.float64)\n"
     ]
    }
   ],
   "source": [
    "# This is how the __getitem__() will be made when making a DataLoader from the dataset\n",
    "# Take a eutectic compilation and print it\n",
    "ec = eutectic_compilation.iloc[0]\n",
    "print(ec)\n",
    "print(\"\\n\")\n",
    "\n",
    "# Obtain the 2 molecules involved\n",
    "print(\"Molecule A: \", ec[0])\n",
    "print(\"Molecule B: \", ec[1])\n",
    "print(\"\\n\")\n",
    "\n",
    "# Find their molecular features from the molecule_features dataframe, then convert the features into a NumPy array\n",
    "m1f = torch.tensor(np.array(molecule_features.loc[molecule_features.mol == ec[0]])[0][1:starting_features+1].astype(float))\n",
    "m2f = torch.tensor(np.array(molecule_features.loc[molecule_features.mol == ec[1]])[0][1:starting_features+1].astype(float))\n",
    "\n",
    "print(\"Molecule A Features: \", m1f)\n",
    "print(\"Molecule B Features: \", m2f)"
   ]
  },
  {
   "cell_type": "code",
   "execution_count": 15,
   "id": "2b3f954b",
   "metadata": {},
   "outputs": [],
   "source": [
    "# SNN class with model\n",
    "class SiameseNeuralNetwork(Module):\n",
    "    def __init__(self, start_features):\n",
    "        super(SiameseNeuralNetwork, self).__init__()\n",
    "        \n",
    "        self.fc1 = Linear(in_features=start_features, out_features=15)\n",
    "        self.fc2 = Linear(in_features=15, out_features=10) # create the feature vector for the input data\n",
    "        self.fc3 = Linear(in_features=10, out_features=1) # final stage where prediction is made\n",
    "\n",
    "    def forward_on_input(self, x):\n",
    "        return self.fc2(F.relu(self.fc1(x)))\n",
    "\n",
    "    def forward(self, x1, x2):\n",
    "        y1 = self.forward_on_input(x1)\n",
    "        y2 = self.forward_on_input(x2)\n",
    "        d = y1 - y2                      # difference for xe\n",
    "        # d = torch.abs(y1 - y2)           # difference for Te\n",
    "        p = torch.sigmoid(self.fc3(d))\n",
    "        return p"
   ]
  },
  {
   "cell_type": "code",
   "execution_count": 16,
   "id": "e5fb06c6",
   "metadata": {},
   "outputs": [],
   "source": [
    "# To be fixed so all code below this has not been run yet. Will throw error!!!\n",
    "class MakeDataset(Dataset):\n",
    "    def __init__(self, ec_df, mf_df, num_features):\n",
    "        self.ecdf = ec_df\n",
    "        self.mfdf = mf_df\n",
    "        self.nf = num_features\n",
    "\n",
    "    def __len__(self):\n",
    "        return len(self.ecdf)\n",
    "  \n",
    "    def __getitem__(self, idx):\n",
    "        ec = self.ecdf.iloc[idx]\n",
    "        \n",
    "        m1f = torch.tensor(np.array(self.mfdf.loc[self.mfdf.mol == ec[0]])[0][1:self.nf+1].astype(float))\n",
    "        m2f = torch.tensor(np.array(self.mfdf.loc[self.mfdf.mol == ec[1]])[0][1:self.nf+1].astype(float))\n",
    "        xe = torch.tensor(float(ec[2]))\n",
    "        Te = torch.tensor(ec[3])\n",
    "        \n",
    "        return m1f, m2f, xe, Te"
   ]
  },
  {
   "cell_type": "code",
   "execution_count": 17,
   "id": "2436f674",
   "metadata": {},
   "outputs": [],
   "source": [
    "train_dset = MakeDataset(train_ec, molecule_features, starting_features)\n",
    "test_dset = MakeDataset(test_ec, molecule_features, starting_features)\n",
    "\n",
    "train_ec_dl = DataLoader(train_dset, shuffle=True, batch_size=batchsize)\n",
    "test_ec_dl = DataLoader(test_dset, shuffle=True, batch_size=batchsize)\n",
    "\n",
    "# set the model\n",
    "model = SiameseNeuralNetwork(starting_features).to(device)\n",
    "\n",
    "# Set optimizer and loss function. Using MAE since we are comparing a float to another float. \n",
    "opt = torch.optim.Adam(model.parameters(), lr=0.005)\n",
    "criterion = torch.nn.MSELoss()\n",
    "base_xe = torch.mean(torch.tensor(np.array(eutectic_compilation[\"xe\"]).astype(float)) / 100.0)"
   ]
  },
  {
   "cell_type": "code",
   "execution_count": 18,
   "id": "37924ca0",
   "metadata": {
    "executionInfo": {
     "elapsed": 6,
     "status": "aborted",
     "timestamp": 1654188896848,
     "user": {
      "displayName": "Arjun Viswanathan",
      "userId": "09010050134735347675"
     },
     "user_tz": 240
    },
    "id": "37924ca0"
   },
   "outputs": [
    {
     "name": "stdout",
     "output_type": "stream",
     "text": [
      "Epoch 1 | Train Loss: 14.691761128604412 | Baseline: 11.271969364956021\n",
      "Epoch 2 | Train Loss: 11.932573046302423 | Baseline: 11.230554484762251\n",
      "Epoch 3 | Train Loss: 11.746398750692606 | Baseline: 11.336872508749366\n",
      "Epoch 4 | Train Loss: 11.504698945209384 | Baseline: 11.250636644661427\n",
      "Epoch 5 | Train Loss: 11.288904912769794 | Baseline: 11.281386563554406\n",
      "Epoch 6 | Train Loss: 11.240158069878817 | Baseline: 11.277103014290333\n",
      "Epoch 7 | Train Loss: 11.096206383779645 | Baseline: 11.288867516443133\n",
      "Epoch 8 | Train Loss: 11.145650863647461 | Baseline: 11.323230799287558\n",
      "Epoch 9 | Train Loss: 11.093204252421856 | Baseline: 11.276492374017835\n",
      "Epoch 10 | Train Loss: 10.979264341294765 | Baseline: 11.253032088279724\n"
     ]
    }
   ],
   "source": [
    "# training\n",
    "for epoch in range(num_epochs):\n",
    "    train_running_loss = 0.0\n",
    "    train_base_loss = 0.0\n",
    "    train_accuracy = 0.0\n",
    "    model = model.train()\n",
    "\n",
    "    # training step: iterate through the batch and obtain the 4 data\n",
    "    for x, (m1, m2, xe, Te) in enumerate(train_ec_dl):   \n",
    "        # sending to device (GPU or CPU)\n",
    "        m1 = m1.to(device)\n",
    "        m2 = m2.to(device)\n",
    "        xe = (xe/100.0).to(device)\n",
    "        # Te = Te.to(device)\n",
    "\n",
    "        # pass 2 sets of inputs into the snn and gives p, the output\n",
    "        output = model(m1.float(), m2.float())\n",
    "        loss = criterion(output[:, 0], xe)\n",
    "        \n",
    "        base = torch.full((len(xe),), base_xe, device=device)\n",
    "        base_loss = criterion(base, xe)\n",
    "\n",
    "        opt.zero_grad()\n",
    "        loss.backward()\n",
    "        opt.step()\n",
    "\n",
    "        train_running_loss += loss.item()\n",
    "        train_base_loss += base_loss.item()\n",
    "\n",
    "    model.eval()\n",
    "    print('Epoch {} | Train Loss: {} | Baseline: {}'.format(epoch+1, train_running_loss, train_base_loss))"
   ]
  },
  {
   "cell_type": "code",
   "execution_count": 19,
   "id": "6206c6cf",
   "metadata": {
    "executionInfo": {
     "elapsed": 6,
     "status": "aborted",
     "timestamp": 1654188896848,
     "user": {
      "displayName": "Arjun Viswanathan",
      "userId": "09010050134735347675"
     },
     "user_tz": 240
    },
    "id": "6206c6cf"
   },
   "outputs": [
    {
     "name": "stdout",
     "output_type": "stream",
     "text": [
      "Test Loss: 2.0663128420710564 | Baseline: 0.060593221336603165\n",
      "\n",
      "Original Data: tensor([0.0750, 0.1500, 0.5500, 0.2600, 0.1400, 0.2100, 0.5300, 0.8300, 0.1100,\n",
      "        0.2300, 0.5770, 0.4370, 0.4900, 0.4500, 0.3940, 0.5000, 0.7800],\n",
      "       device='cuda:0')\n",
      "\n",
      "Predicted: tensor([[0.5223],\n",
      "        [0.5771],\n",
      "        [0.3669],\n",
      "        [0.4521],\n",
      "        [0.4866],\n",
      "        [0.5151],\n",
      "        [0.5118],\n",
      "        [0.6282],\n",
      "        [0.4527],\n",
      "        [0.5359],\n",
      "        [0.5243],\n",
      "        [0.5372],\n",
      "        [0.5589],\n",
      "        [0.5007],\n",
      "        [0.5256],\n",
      "        [0.5067],\n",
      "        [0.4672]], device='cuda:0', grad_fn=<SigmoidBackward0>)\n",
      "\n"
     ]
    }
   ],
   "source": [
    "test_loss = 0.0\n",
    "test_baseline = 0.0\n",
    "for (m1, m2, xe, Te) in test_ec_dl:\n",
    "    m1 = m1.to(device)\n",
    "    m2 = m2.to(device)\n",
    "    xe = (xe/100.0).to(device)\n",
    "    # Te = Te.to(device)\n",
    "\n",
    "    outputs = model(m1.float(), m2.float())\n",
    "    test_loss += criterion(outputs[:, 0], xe).item()\n",
    "    \n",
    "    base = torch.full((len(xe),), base_xe, device=device)\n",
    "    test_baseline = criterion(base, xe).item()\n",
    "    \n",
    "print('Test Loss: {} | Baseline: {}\\n'.format(test_loss, test_baseline))\n",
    "print(\"Original Data: {}\\n\".format(xe))\n",
    "print(\"Predicted: {}\\n\".format(outputs))"
   ]
  }
 ],
 "metadata": {
  "colab": {
   "collapsed_sections": [],
   "name": "snn.ipynb",
   "provenance": []
  },
  "kernelspec": {
   "display_name": "Python 3 (ipykernel)",
   "language": "python",
   "name": "python3"
  },
  "language_info": {
   "codemirror_mode": {
    "name": "ipython",
    "version": 3
   },
   "file_extension": ".py",
   "mimetype": "text/x-python",
   "name": "python",
   "nbconvert_exporter": "python",
   "pygments_lexer": "ipython3",
   "version": "3.9.12"
  }
 },
 "nbformat": 4,
 "nbformat_minor": 5
}

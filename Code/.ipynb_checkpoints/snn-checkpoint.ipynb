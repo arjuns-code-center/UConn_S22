{
 "cells": [
  {
   "cell_type": "raw",
   "id": "ff6355e5",
   "metadata": {
    "id": "44d9d95f"
   },
   "source": [
    "# Author: Arjun Viswanathan\n",
    "# Date Created: 5/26/22\n",
    "# Creating a Siamese Neural Network (SNN) architecture using PyTorch.\n",
    "# Network takes in 2 sets of inputs, and trains on them to gives 1 output, which can be the eutectic proportion or temperature.\n",
    "# Currently using eutectic proportions."
   ]
  },
  {
   "cell_type": "code",
   "execution_count": 1,
   "id": "8ae6463a",
   "metadata": {
    "executionInfo": {
     "elapsed": 1568,
     "status": "ok",
     "timestamp": 1654188896478,
     "user": {
      "displayName": "Arjun Viswanathan",
      "userId": "09010050134735347675"
     },
     "user_tz": 240
    },
    "id": "8ae6463a"
   },
   "outputs": [],
   "source": [
    "import torch\n",
    "import pandas as pd\n",
    "import numpy as np\n",
    "from matplotlib import pyplot as plt\n",
    "import math\n",
    "from sklearn.model_selection import train_test_split\n",
    "from torch.nn import Module, Conv2d, MaxPool2d, Linear\n",
    "import torch.nn.functional as F\n",
    "from torch.utils.data import DataLoader, Dataset"
   ]
  },
  {
   "cell_type": "code",
   "execution_count": 2,
   "id": "c576c58d",
   "metadata": {
    "executionInfo": {
     "elapsed": 9,
     "status": "ok",
     "timestamp": 1654188896481,
     "user": {
      "displayName": "Arjun Viswanathan",
      "userId": "09010050134735347675"
     },
     "user_tz": 240
    },
    "id": "c576c58d"
   },
   "outputs": [],
   "source": [
    "# define parameters for training and device\n",
    "starting_features = 5\n",
    "batchsize = 16\n",
    "num_epochs = 10\n",
    "# If a GPU is available, then send it to that GPU rather than train on CPU\n",
    "device = torch.device(\"cuda:0\" if torch.cuda.is_available() else \"cpu\")"
   ]
  },
  {
   "cell_type": "code",
   "execution_count": 3,
   "id": "724168f1",
   "metadata": {
    "id": "724168f1"
   },
   "outputs": [
    {
     "data": {
      "text/plain": [
       "device(type='cuda', index=0)"
      ]
     },
     "execution_count": 3,
     "metadata": {},
     "output_type": "execute_result"
    }
   ],
   "source": [
    "device"
   ]
  },
  {
   "cell_type": "code",
   "execution_count": 4,
   "id": "778839b4",
   "metadata": {
    "id": "778839b4"
   },
   "outputs": [],
   "source": [
    "# Load the dataset. \n",
    "# molecule_features: First col is a string containing name of molecule. Rest are floats containing its features\n",
    "# eutectic_compilation: First 2 cols are strings containing molecule names, third col is eutectic proportion, fourth is eutectic temperature\n",
    "\n",
    "molecule_features = pd.read_csv(\"D:\\\\Research\\\\UConn_ML\\\\Code\\\\data\\\\eutectic_mixtures-main\\\\single_components.csv\").drop([\"xlogp\"], axis=1)\n",
    "eutectic_compilation = pd.read_csv(\"D:\\\\Research\\\\UConn_ML\\\\Code\\\\data\\\\eutectic_mixtures-main\\\\eutectic_compilation.csv\")\n",
    "\n",
    "molecule_features[molecule_features.columns[1:]] = molecule_features[molecule_features.columns[1:]].astype(float)\n",
    "eutectic_compilation[eutectic_compilation.columns[3]] = eutectic_compilation[eutectic_compilation.columns[3]].astype(float)\n",
    "\n",
    "# Some indices in eutectic_compilation do not exist in single_components. They will need to be removed.\n",
    "# Some of the eutectic proportions are inconvertible to floats from strings. They will also need to be removed.\n",
    "drops = np.array([]).astype(int)\n",
    "for i in range(len(eutectic_compilation)):\n",
    "    ec = eutectic_compilation.iloc[i]\n",
    "    m1 = ec[0]\n",
    "    m2 = ec[1]\n",
    "    xe = ec[2]\n",
    "    \n",
    "    m1f = molecule_features.loc[molecule_features.mol == ec[0]]\n",
    "    m2f = molecule_features.loc[molecule_features.mol == ec[1]]\n",
    "    \n",
    "    try:\n",
    "        xe = float(xe)\n",
    "    except ValueError:\n",
    "        drops = np.append(drops, i)\n",
    "    \n",
    "    if(len(m1f) == 0 or len(m2f) == 0):\n",
    "        drops = np.append(drops, i)\n",
    "\n",
    "eutectic_compilation = eutectic_compilation.drop(eutectic_compilation.index[drops])"
   ]
  },
  {
   "cell_type": "code",
   "execution_count": 5,
   "id": "068a9663",
   "metadata": {},
   "outputs": [
    {
     "data": {
      "text/html": [
       "<div>\n",
       "<style scoped>\n",
       "    .dataframe tbody tr th:only-of-type {\n",
       "        vertical-align: middle;\n",
       "    }\n",
       "\n",
       "    .dataframe tbody tr th {\n",
       "        vertical-align: top;\n",
       "    }\n",
       "\n",
       "    .dataframe thead th {\n",
       "        text-align: right;\n",
       "    }\n",
       "</style>\n",
       "<table border=\"1\" class=\"dataframe\">\n",
       "  <thead>\n",
       "    <tr style=\"text-align: right;\">\n",
       "      <th></th>\n",
       "      <th>mol</th>\n",
       "      <th>molecular_weight</th>\n",
       "      <th>complexity</th>\n",
       "      <th>rotatable_bond_count</th>\n",
       "      <th>heavy_atom_count</th>\n",
       "      <th>topological_area</th>\n",
       "    </tr>\n",
       "  </thead>\n",
       "  <tbody>\n",
       "    <tr>\n",
       "      <th>0</th>\n",
       "      <td>BaO</td>\n",
       "      <td>153.3300</td>\n",
       "      <td>2.0</td>\n",
       "      <td>0.0</td>\n",
       "      <td>2.0</td>\n",
       "      <td>17.1</td>\n",
       "    </tr>\n",
       "    <tr>\n",
       "      <th>1</th>\n",
       "      <td>CrCl3</td>\n",
       "      <td>158.3500</td>\n",
       "      <td>0.0</td>\n",
       "      <td>0.0</td>\n",
       "      <td>4.0</td>\n",
       "      <td>0.0</td>\n",
       "    </tr>\n",
       "    <tr>\n",
       "      <th>2</th>\n",
       "      <td>PBr5</td>\n",
       "      <td>430.4900</td>\n",
       "      <td>37.1</td>\n",
       "      <td>0.0</td>\n",
       "      <td>6.0</td>\n",
       "      <td>0.0</td>\n",
       "    </tr>\n",
       "    <tr>\n",
       "      <th>3</th>\n",
       "      <td>WCl5</td>\n",
       "      <td>361.1000</td>\n",
       "      <td>37.1</td>\n",
       "      <td>0.0</td>\n",
       "      <td>6.0</td>\n",
       "      <td>0.0</td>\n",
       "    </tr>\n",
       "    <tr>\n",
       "      <th>4</th>\n",
       "      <td>HgI2</td>\n",
       "      <td>454.4000</td>\n",
       "      <td>2.8</td>\n",
       "      <td>0.0</td>\n",
       "      <td>3.0</td>\n",
       "      <td>0.0</td>\n",
       "    </tr>\n",
       "    <tr>\n",
       "      <th>...</th>\n",
       "      <td>...</td>\n",
       "      <td>...</td>\n",
       "      <td>...</td>\n",
       "      <td>...</td>\n",
       "      <td>...</td>\n",
       "      <td>...</td>\n",
       "    </tr>\n",
       "    <tr>\n",
       "      <th>672</th>\n",
       "      <td>PBr3</td>\n",
       "      <td>270.6900</td>\n",
       "      <td>8.0</td>\n",
       "      <td>0.0</td>\n",
       "      <td>4.0</td>\n",
       "      <td>0.0</td>\n",
       "    </tr>\n",
       "    <tr>\n",
       "      <th>673</th>\n",
       "      <td>PbSiO3</td>\n",
       "      <td>283.0000</td>\n",
       "      <td>18.8</td>\n",
       "      <td>0.0</td>\n",
       "      <td>5.0</td>\n",
       "      <td>63.2</td>\n",
       "    </tr>\n",
       "    <tr>\n",
       "      <th>674</th>\n",
       "      <td>LiI</td>\n",
       "      <td>133.9000</td>\n",
       "      <td>2.0</td>\n",
       "      <td>0.0</td>\n",
       "      <td>2.0</td>\n",
       "      <td>0.0</td>\n",
       "    </tr>\n",
       "    <tr>\n",
       "      <th>675</th>\n",
       "      <td>EuF3</td>\n",
       "      <td>208.9590</td>\n",
       "      <td>8.0</td>\n",
       "      <td>0.0</td>\n",
       "      <td>4.0</td>\n",
       "      <td>0.0</td>\n",
       "    </tr>\n",
       "    <tr>\n",
       "      <th>676</th>\n",
       "      <td>TaF5</td>\n",
       "      <td>275.9399</td>\n",
       "      <td>37.1</td>\n",
       "      <td>0.0</td>\n",
       "      <td>6.0</td>\n",
       "      <td>0.0</td>\n",
       "    </tr>\n",
       "  </tbody>\n",
       "</table>\n",
       "<p>677 rows × 6 columns</p>\n",
       "</div>"
      ],
      "text/plain": [
       "        mol  molecular_weight  complexity  rotatable_bond_count  \\\n",
       "0       BaO          153.3300         2.0                   0.0   \n",
       "1     CrCl3          158.3500         0.0                   0.0   \n",
       "2      PBr5          430.4900        37.1                   0.0   \n",
       "3      WCl5          361.1000        37.1                   0.0   \n",
       "4      HgI2          454.4000         2.8                   0.0   \n",
       "..      ...               ...         ...                   ...   \n",
       "672    PBr3          270.6900         8.0                   0.0   \n",
       "673  PbSiO3          283.0000        18.8                   0.0   \n",
       "674     LiI          133.9000         2.0                   0.0   \n",
       "675    EuF3          208.9590         8.0                   0.0   \n",
       "676    TaF5          275.9399        37.1                   0.0   \n",
       "\n",
       "     heavy_atom_count  topological_area  \n",
       "0                 2.0              17.1  \n",
       "1                 4.0               0.0  \n",
       "2                 6.0               0.0  \n",
       "3                 6.0               0.0  \n",
       "4                 3.0               0.0  \n",
       "..                ...               ...  \n",
       "672               4.0               0.0  \n",
       "673               5.0              63.2  \n",
       "674               2.0               0.0  \n",
       "675               4.0               0.0  \n",
       "676               6.0               0.0  \n",
       "\n",
       "[677 rows x 6 columns]"
      ]
     },
     "execution_count": 5,
     "metadata": {},
     "output_type": "execute_result"
    }
   ],
   "source": [
    "molecule_features"
   ]
  },
  {
   "cell_type": "code",
   "execution_count": 6,
   "id": "add4c221",
   "metadata": {},
   "outputs": [
    {
     "data": {
      "text/html": [
       "<div>\n",
       "<style scoped>\n",
       "    .dataframe tbody tr th:only-of-type {\n",
       "        vertical-align: middle;\n",
       "    }\n",
       "\n",
       "    .dataframe tbody tr th {\n",
       "        vertical-align: top;\n",
       "    }\n",
       "\n",
       "    .dataframe thead th {\n",
       "        text-align: right;\n",
       "    }\n",
       "</style>\n",
       "<table border=\"1\" class=\"dataframe\">\n",
       "  <thead>\n",
       "    <tr style=\"text-align: right;\">\n",
       "      <th></th>\n",
       "      <th>molA</th>\n",
       "      <th>molB</th>\n",
       "      <th>xe</th>\n",
       "      <th>Te</th>\n",
       "    </tr>\n",
       "  </thead>\n",
       "  <tbody>\n",
       "    <tr>\n",
       "      <th>0</th>\n",
       "      <td>BF3</td>\n",
       "      <td>N2O</td>\n",
       "      <td>76.6</td>\n",
       "      <td>-138.0</td>\n",
       "    </tr>\n",
       "    <tr>\n",
       "      <th>1</th>\n",
       "      <td>BF3</td>\n",
       "      <td>SO2</td>\n",
       "      <td>95.2</td>\n",
       "      <td>-128.6</td>\n",
       "    </tr>\n",
       "    <tr>\n",
       "      <th>2</th>\n",
       "      <td>BCl3</td>\n",
       "      <td>GeCl4</td>\n",
       "      <td>76</td>\n",
       "      <td>-116.0</td>\n",
       "    </tr>\n",
       "    <tr>\n",
       "      <th>3</th>\n",
       "      <td>BCl3</td>\n",
       "      <td>PCl3</td>\n",
       "      <td>94</td>\n",
       "      <td>-110.0</td>\n",
       "    </tr>\n",
       "    <tr>\n",
       "      <th>4</th>\n",
       "      <td>BCl3</td>\n",
       "      <td>PCl3</td>\n",
       "      <td>20</td>\n",
       "      <td>-99.0</td>\n",
       "    </tr>\n",
       "    <tr>\n",
       "      <th>...</th>\n",
       "      <td>...</td>\n",
       "      <td>...</td>\n",
       "      <td>...</td>\n",
       "      <td>...</td>\n",
       "    </tr>\n",
       "    <tr>\n",
       "      <th>4463</th>\n",
       "      <td>Sc2O3</td>\n",
       "      <td>ZrO2</td>\n",
       "      <td>52.2</td>\n",
       "      <td>2450.0</td>\n",
       "    </tr>\n",
       "    <tr>\n",
       "      <th>4464</th>\n",
       "      <td>UO2</td>\n",
       "      <td>ZrO2</td>\n",
       "      <td>47.5</td>\n",
       "      <td>2550.0</td>\n",
       "    </tr>\n",
       "    <tr>\n",
       "      <th>4465</th>\n",
       "      <td>UO2</td>\n",
       "      <td>ZrO2</td>\n",
       "      <td>50</td>\n",
       "      <td>2550.0</td>\n",
       "    </tr>\n",
       "    <tr>\n",
       "      <th>4466</th>\n",
       "      <td>UN</td>\n",
       "      <td>W</td>\n",
       "      <td>100</td>\n",
       "      <td>2700.0</td>\n",
       "    </tr>\n",
       "    <tr>\n",
       "      <th>4467</th>\n",
       "      <td>CsI</td>\n",
       "      <td>NaCNS</td>\n",
       "      <td>10.8</td>\n",
       "      <td>208.4</td>\n",
       "    </tr>\n",
       "  </tbody>\n",
       "</table>\n",
       "<p>3980 rows × 4 columns</p>\n",
       "</div>"
      ],
      "text/plain": [
       "       molA   molB    xe      Te\n",
       "0       BF3    N2O  76.6  -138.0\n",
       "1       BF3    SO2  95.2  -128.6\n",
       "2      BCl3  GeCl4    76  -116.0\n",
       "3      BCl3   PCl3    94  -110.0\n",
       "4      BCl3   PCl3    20   -99.0\n",
       "...     ...    ...   ...     ...\n",
       "4463  Sc2O3   ZrO2  52.2  2450.0\n",
       "4464    UO2   ZrO2  47.5  2550.0\n",
       "4465    UO2   ZrO2    50  2550.0\n",
       "4466     UN      W   100  2700.0\n",
       "4467    CsI  NaCNS  10.8   208.4\n",
       "\n",
       "[3980 rows x 4 columns]"
      ]
     },
     "execution_count": 6,
     "metadata": {},
     "output_type": "execute_result"
    }
   ],
   "source": [
    "eutectic_compilation"
   ]
  },
  {
   "cell_type": "code",
   "execution_count": 7,
   "id": "d9c1f152",
   "metadata": {},
   "outputs": [
    {
     "name": "stdout",
     "output_type": "stream",
     "text": [
      "Index(['mol', 'molecular_weight', 'complexity', 'rotatable_bond_count',\n",
      "       'heavy_atom_count', 'topological_area'],\n",
      "      dtype='object')\n",
      "Index(['molA', 'molB', 'xe', 'Te'], dtype='object')\n"
     ]
    }
   ],
   "source": [
    "print(molecule_features.columns)\n",
    "print(eutectic_compilation.columns)"
   ]
  },
  {
   "cell_type": "code",
   "execution_count": 8,
   "id": "f1a7b6ee",
   "metadata": {},
   "outputs": [
    {
     "name": "stdout",
     "output_type": "stream",
     "text": [
      "mol                      object\n",
      "molecular_weight        float64\n",
      "complexity              float64\n",
      "rotatable_bond_count    float64\n",
      "heavy_atom_count        float64\n",
      "topological_area        float64\n",
      "dtype: object\n",
      "molA     object\n",
      "molB     object\n",
      "xe       object\n",
      "Te      float64\n",
      "dtype: object\n"
     ]
    }
   ],
   "source": [
    "print(molecule_features.dtypes)\n",
    "print(eutectic_compilation.dtypes)"
   ]
  },
  {
   "cell_type": "code",
   "execution_count": 9,
   "id": "5bf28135",
   "metadata": {},
   "outputs": [
    {
     "data": {
      "text/plain": [
       "mol                        BaO\n",
       "molecular_weight        153.33\n",
       "complexity                 2.0\n",
       "rotatable_bond_count       0.0\n",
       "heavy_atom_count           2.0\n",
       "topological_area          17.1\n",
       "Name: 0, dtype: object"
      ]
     },
     "execution_count": 9,
     "metadata": {},
     "output_type": "execute_result"
    }
   ],
   "source": [
    "molecule_features.iloc[0]"
   ]
  },
  {
   "cell_type": "code",
   "execution_count": 10,
   "id": "b01315d1",
   "metadata": {},
   "outputs": [
    {
     "data": {
      "text/plain": [
       "3980"
      ]
     },
     "execution_count": 10,
     "metadata": {},
     "output_type": "execute_result"
    }
   ],
   "source": [
    "len(eutectic_compilation)"
   ]
  },
  {
   "cell_type": "code",
   "execution_count": 11,
   "id": "02b397de",
   "metadata": {},
   "outputs": [
    {
     "name": "stdout",
     "output_type": "stream",
     "text": [
      "molA      BF3\n",
      "molB      N2O\n",
      "xe       76.6\n",
      "Te     -138.0\n",
      "Name: 0, dtype: object\n",
      "\n",
      "\n",
      "Molecule A:  BF3\n",
      "Molecule B:  N2O\n",
      "\n",
      "\n",
      "Molecule A Features:  tensor([67.8100,  8.0000,  0.0000,  4.0000,  0.0000], dtype=torch.float64)\n",
      "Molecule B Features:  tensor([44.0130, 25.8000,  0.0000,  3.0000, 19.1000], dtype=torch.float64)\n"
     ]
    }
   ],
   "source": [
    "# This is how the __getitem__() will be made when making a DataLoader from the dataset\n",
    "# Take a eutectic compilation and print it\n",
    "ec = eutectic_compilation.iloc[0]\n",
    "print(ec)\n",
    "print(\"\\n\")\n",
    "\n",
    "# Obtain the 2 molecules involved\n",
    "print(\"Molecule A: \", ec[0])\n",
    "print(\"Molecule B: \", ec[1])\n",
    "print(\"\\n\")\n",
    "\n",
    "# Find their molecular features from the molecule_features dataframe, then convert the features into a NumPy array\n",
    "m1f = torch.tensor(np.array(molecule_features.loc[molecule_features.mol == ec[0]])[0][1:starting_features+1].astype(float))\n",
    "m2f = torch.tensor(np.array(molecule_features.loc[molecule_features.mol == ec[1]])[0][1:starting_features+1].astype(float))\n",
    "\n",
    "print(\"Molecule A Features: \", m1f)\n",
    "print(\"Molecule B Features: \", m2f)"
   ]
  },
  {
   "cell_type": "code",
   "execution_count": 12,
   "id": "2b3f954b",
   "metadata": {},
   "outputs": [],
   "source": [
    "# SNN class with model\n",
    "class SiameseNeuralNetwork(Module):\n",
    "    def __init__(self, start_features):\n",
    "        super(SiameseNeuralNetwork, self).__init__()\n",
    "        \n",
    "        self.fc1 = Linear(in_features=start_features, out_features=16)\n",
    "        self.fc2 = Linear(in_features=16, out_features=32)\n",
    "        self.fc3 = Linear(in_features=32, out_features=64)\n",
    "        \n",
    "        # create the feature vector for the input data\n",
    "        self.fc4 = Linear(in_features=64, out_features=256)\n",
    "        \n",
    "        # final stage where prediction is made\n",
    "        self.fc5 = Linear(in_features=256, out_features=1)\n",
    "\n",
    "    def forward_on_input(self, x):\n",
    "        return torch.tanh(self.fc4(F.relu(self.fc3(F.relu(self.fc2(F.relu(self.fc1(x))))))))\n",
    "\n",
    "    def forward(self, x1, x2):\n",
    "        y1 = self.forward_on_input(x1)\n",
    "        y2 = self.forward_on_input(x2)\n",
    "        d = y1 - y2                      # difference for xe\n",
    "        # d = torch.abs(y1 - y2)           # difference for Te\n",
    "        p = torch.sigmoid(self.fc5(d))\n",
    "        return p"
   ]
  },
  {
   "cell_type": "code",
   "execution_count": 13,
   "id": "e5fb06c6",
   "metadata": {},
   "outputs": [],
   "source": [
    "# To be fixed so all code below this has not been run yet. Will throw error!!!\n",
    "class MakeDataset(Dataset):\n",
    "    def __init__(self, ec_df, mf_df, num_features):\n",
    "        self.ecdf = ec_df\n",
    "        self.mfdf = mf_df\n",
    "        self.nf = num_features\n",
    "\n",
    "    def __len__(self):\n",
    "        return len(self.ecdf)\n",
    "  \n",
    "    def __getitem__(self, idx):\n",
    "        ec = self.ecdf.iloc[idx]\n",
    "        \n",
    "        m1f = torch.tensor(np.array(self.mfdf.loc[self.mfdf.mol == ec[0]])[0][1:self.nf+1].astype(float))\n",
    "        m2f = torch.tensor(np.array(self.mfdf.loc[self.mfdf.mol == ec[1]])[0][1:self.nf+1].astype(float))\n",
    "        xe = torch.tensor(float(ec[2]))\n",
    "        Te = torch.tensor(ec[3])\n",
    "        \n",
    "        return m1f, m2f, xe, Te"
   ]
  },
  {
   "cell_type": "code",
   "execution_count": 14,
   "id": "2436f674",
   "metadata": {},
   "outputs": [],
   "source": [
    "ec_dataset = MakeDataset(eutectic_compilation, molecule_features, starting_features)\n",
    "ec_dl = DataLoader(ec_dataset, shuffle=True, batch_size=batchsize)\n",
    "\n",
    "# set the model\n",
    "model = SiameseNeuralNetwork(starting_features).to(device)\n",
    "\n",
    "# Set optimizer\n",
    "opt = torch.optim.Adam(model.parameters(), lr=0.005)"
   ]
  },
  {
   "cell_type": "code",
   "execution_count": 15,
   "id": "18842570",
   "metadata": {
    "executionInfo": {
     "elapsed": 184,
     "status": "aborted",
     "timestamp": 1654188896847,
     "user": {
      "displayName": "Arjun Viswanathan",
      "userId": "09010050134735347675"
     },
     "user_tz": 240
    },
    "id": "18842570"
   },
   "outputs": [],
   "source": [
    "# Compute the accuracy of the model at each epoch\n",
    "def accuracy(output, target, batch_size):\n",
    "    corrects = 0\n",
    "    for x in range(len(output)):\n",
    "        errorband = 0.25 * target[x]\n",
    "        if output[x] > target[x] - errorband and output[x] < target[x] + errorband:\n",
    "            corrects = corrects + 1\n",
    "    accuracy = 100.0 * (corrects / batch_size)\n",
    "    return accuracy"
   ]
  },
  {
   "cell_type": "code",
   "execution_count": 16,
   "id": "37924ca0",
   "metadata": {
    "executionInfo": {
     "elapsed": 6,
     "status": "aborted",
     "timestamp": 1654188896848,
     "user": {
      "displayName": "Arjun Viswanathan",
      "userId": "09010050134735347675"
     },
     "user_tz": 240
    },
    "id": "37924ca0"
   },
   "outputs": [
    {
     "name": "stdout",
     "output_type": "stream",
     "text": [
      "Epoch 1 | Loss: 3.5235 | Train Accuracy: 33.95\n",
      "Epoch 2 | Loss: 3.5186 | Train Accuracy: 33.57\n",
      "Epoch 3 | Loss: 3.5167 | Train Accuracy: 33.52\n",
      "Epoch 4 | Loss: 3.5171 | Train Accuracy: 33.67\n",
      "Epoch 5 | Loss: 3.5167 | Train Accuracy: 33.92\n",
      "Epoch 6 | Loss: 3.5173 | Train Accuracy: 34.00\n",
      "Epoch 7 | Loss: 3.5166 | Train Accuracy: 33.54\n",
      "Epoch 8 | Loss: 3.5171 | Train Accuracy: 33.95\n",
      "Epoch 9 | Loss: 3.5172 | Train Accuracy: 33.77\n",
      "Epoch 10 | Loss: 3.5158 | Train Accuracy: 34.00\n"
     ]
    }
   ],
   "source": [
    "# training\n",
    "model = model.train()\n",
    "for epoch in range(num_epochs):\n",
    "    train_running_loss = 0.0\n",
    "    train_accuracy = 0.0\n",
    "    model = model.train()\n",
    "\n",
    "    # training step: iterate through the batch and get the images and labels at each x\n",
    "    for x, (m1, m2, xe, Te) in enumerate(ec_dl):   \n",
    "        # sending images and labels to device (GPU or CPU)\n",
    "        m1 = m1.to(device)\n",
    "        m2 = m2.to(device)\n",
    "        xe = (xe/100.0).to(device)\n",
    "        # Te = Te.to(device)\n",
    "\n",
    "        # pass 2 sets of inputs into the snn and gives p, the output\n",
    "        output = model(m1.float(), m2.float())\n",
    "        loss = torch.abs(output - xe).sum() / xe.shape[0]\n",
    "        # loss = Te*math.log(output) + (1-Te)*math.log(1-output)\n",
    "\n",
    "        opt.zero_grad()\n",
    "        loss.backward()\n",
    "        opt.step()\n",
    "\n",
    "        train_running_loss += loss.detach().item()\n",
    "        train_accuracy += accuracy(output, xe, batchsize)\n",
    "        # train_accuracy += accuracy(output, Te, batchsize)\n",
    "\n",
    "    model.eval()\n",
    "    print('Epoch %d | Loss: %.4f | Train Accuracy: %.2f'%(epoch+1, train_running_loss / x, train_accuracy / x))"
   ]
  },
  {
   "cell_type": "code",
   "execution_count": 17,
   "id": "6206c6cf",
   "metadata": {
    "executionInfo": {
     "elapsed": 6,
     "status": "aborted",
     "timestamp": 1654188896848,
     "user": {
      "displayName": "Arjun Viswanathan",
      "userId": "09010050134735347675"
     },
     "user_tz": 240
    },
    "id": "6206c6cf"
   },
   "outputs": [
    {
     "name": "stdout",
     "output_type": "stream",
     "text": [
      "Test Accuracy: 26.21\n"
     ]
    }
   ],
   "source": [
    "test_accuracy = 0.0\n",
    "for y, (m1, m2, xe, Te) in enumerate(ec_dl):\n",
    "    m1 = m1.to(device)\n",
    "    m2 = m2.to(device)\n",
    "    xe = (xe/100.0).to(device)\n",
    "    # Te = Te.to(device)\n",
    "\n",
    "    outputs = model(m1.float(), m2.float())\n",
    "    test_accuracy += accuracy(output, xe, batchsize)\n",
    "    # test_accuracy += accuracy(output, Te, batchsize)\n",
    "print('Test Accuracy: %.2f'%(test_accuracy / y))"
   ]
  }
 ],
 "metadata": {
  "colab": {
   "collapsed_sections": [],
   "name": "snn.ipynb",
   "provenance": []
  },
  "kernelspec": {
   "display_name": "Python 3 (ipykernel)",
   "language": "python",
   "name": "python3"
  },
  "language_info": {
   "codemirror_mode": {
    "name": "ipython",
    "version": 3
   },
   "file_extension": ".py",
   "mimetype": "text/x-python",
   "name": "python",
   "nbconvert_exporter": "python",
   "pygments_lexer": "ipython3",
   "version": "3.9.12"
  }
 },
 "nbformat": 4,
 "nbformat_minor": 5
}

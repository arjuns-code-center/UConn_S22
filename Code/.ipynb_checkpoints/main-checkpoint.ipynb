{
 "cells": [
  {
   "cell_type": "raw",
   "id": "ff6355e5",
   "metadata": {
    "id": "44d9d95f"
   },
   "source": [
    "# Author: Arjun Viswanathan\n",
    "# Date Created: 5/26/22\n",
    "# Creating a Siamese Neural Network (SNN) architecture using PyTorch.\n",
    "# Network takes in 2 sets of inputs, and trains on them to gives 1 output, which can be the eutectic proportion or temperature.\n",
    "# Currently using eutectic proportions."
   ]
  },
  {
   "cell_type": "code",
   "execution_count": null,
   "id": "8ae6463a",
   "metadata": {
    "executionInfo": {
     "elapsed": 1568,
     "status": "ok",
     "timestamp": 1654188896478,
     "user": {
      "displayName": "Arjun Viswanathan",
      "userId": "09010050134735347675"
     },
     "user_tz": 240
    },
    "id": "8ae6463a"
   },
   "outputs": [],
   "source": [
    "import torch\n",
    "import pandas as pd\n",
    "import numpy as np\n",
    "import importlib\n",
    "import ModelRunner as MR\n",
    "import MakeDataset as MD"
   ]
  },
  {
   "cell_type": "code",
   "execution_count": null,
   "id": "778839b4",
   "metadata": {
    "id": "778839b4"
   },
   "outputs": [],
   "source": [
    "# Load the dataset. \n",
    "# molecule_features: First col is a string containing name of molecule. Rest are floats containing its features\n",
    "# eutectic_compilation: First 2 cols are strings containing molecule names, third col is eutectic proportion, fourth is eutectic temperature\n",
    "\n",
    "molecule_features = pd.read_csv(\"D:\\\\Research\\\\UConn_ML\\\\data\\\\eutectic_mixtures-main\\\\single_components.csv\").drop([\"xlogp\"], axis=1)\n",
    "eutectic_compilation = pd.read_csv(\"D:\\\\Research\\\\UConn_ML\\\\data\\\\eutectic_mixtures-main\\\\eutectic_compilation.csv\")\n",
    "\n",
    "molecule_features[molecule_features.columns[1:]] = molecule_features[molecule_features.columns[1:]].astype(float)\n",
    "eutectic_compilation[eutectic_compilation.columns[3]] = eutectic_compilation[eutectic_compilation.columns[3]].astype(float)"
   ]
  },
  {
   "cell_type": "code",
   "execution_count": null,
   "id": "5053794b",
   "metadata": {},
   "outputs": [],
   "source": [
    "# Some indices in eutectic_compilation do not exist in single_components. They will need to be removed.\n",
    "# Some of the eutectic proportions are inconvertible to floats from strings. They will also need to be removed.\n",
    "# missing_molecules will store all molecules that are missing features from eutectic_compilation\n",
    "drops = np.array([]).astype(int)\n",
    "missing_molecules = np.array([]).astype(str)\n",
    "for i in range(len(eutectic_compilation)):\n",
    "    ec = eutectic_compilation.iloc[i]\n",
    "    m1 = ec[0]\n",
    "    m2 = ec[1]\n",
    "    xe = ec[2]\n",
    "    \n",
    "    m1f = molecule_features.loc[molecule_features.mol == ec[0]]\n",
    "    m2f = molecule_features.loc[molecule_features.mol == ec[1]]\n",
    "    \n",
    "    try:\n",
    "        xe = float(xe)\n",
    "    except ValueError:\n",
    "        drops = np.append(drops, i)\n",
    "    \n",
    "    if(len(m1f) == 0 or len(m2f) == 0):\n",
    "        drops = np.append(drops, i)\n",
    "        \n",
    "        if(len(m1f) == 0):\n",
    "            missing_molecules = np.append(missing_molecules, m1)\n",
    "        elif(len(m2f) == 0):\n",
    "            missing_molecules = np.append(missing_molecules, m2)\n",
    "\n",
    "eutectic_compilation = eutectic_compilation.drop(eutectic_compilation.index[drops])\n",
    "# np.savetxt(\"missing_molecules.csv\", missing_molecules, delimiter=\",\", fmt=\"%s\")"
   ]
  },
  {
   "cell_type": "code",
   "execution_count": null,
   "id": "a7928bb9",
   "metadata": {},
   "outputs": [],
   "source": [
    "# Split the eutectic compilation dataframe by a ratio into training and testing sets\n",
    "split = 0.95\n",
    "train_ec = eutectic_compilation.sample(frac=split)\n",
    "test_ec = eutectic_compilation.drop(train_ec.index)\n",
    "\n",
    "split = 0.10\n",
    "val_ec = train_ec.sample(frac=split)\n",
    "train_ec = train_ec.drop(val_ec.index)"
   ]
  },
  {
   "cell_type": "code",
   "execution_count": null,
   "id": "068a9663",
   "metadata": {
    "scrolled": false
   },
   "outputs": [],
   "source": [
    "molecule_features"
   ]
  },
  {
   "cell_type": "code",
   "execution_count": null,
   "id": "e968daea",
   "metadata": {},
   "outputs": [],
   "source": [
    "eutectic_compilation"
   ]
  },
  {
   "cell_type": "code",
   "execution_count": null,
   "id": "b42baa62",
   "metadata": {},
   "outputs": [],
   "source": [
    "train_ec"
   ]
  },
  {
   "cell_type": "code",
   "execution_count": null,
   "id": "0457081e",
   "metadata": {},
   "outputs": [],
   "source": [
    "val_ec"
   ]
  },
  {
   "cell_type": "code",
   "execution_count": null,
   "id": "c4939382",
   "metadata": {},
   "outputs": [],
   "source": [
    "test_ec"
   ]
  },
  {
   "cell_type": "code",
   "execution_count": null,
   "id": "d9c1f152",
   "metadata": {},
   "outputs": [],
   "source": [
    "print(molecule_features.columns)\n",
    "print(eutectic_compilation.columns)"
   ]
  },
  {
   "cell_type": "code",
   "execution_count": null,
   "id": "f1a7b6ee",
   "metadata": {},
   "outputs": [],
   "source": [
    "print(molecule_features.dtypes)\n",
    "print(eutectic_compilation.dtypes)"
   ]
  },
  {
   "cell_type": "code",
   "execution_count": null,
   "id": "5bf28135",
   "metadata": {},
   "outputs": [],
   "source": [
    "molecule_features.iloc[0]"
   ]
  },
  {
   "cell_type": "code",
   "execution_count": null,
   "id": "b01315d1",
   "metadata": {},
   "outputs": [],
   "source": [
    "print(\"Train Size: \", len(train_ec))\n",
    "print(\"Validation Size: \", len(val_ec))\n",
    "print(\"Test Size: \", len(test_ec))"
   ]
  },
  {
   "cell_type": "code",
   "execution_count": null,
   "id": "0479c0a1",
   "metadata": {},
   "outputs": [],
   "source": [
    "importlib.reload(MD)"
   ]
  },
  {
   "cell_type": "code",
   "execution_count": null,
   "id": "dafa45c3",
   "metadata": {},
   "outputs": [],
   "source": [
    "md = MD.MD(train_ec, molecule_features, 5)\n",
    "md[0][0]"
   ]
  },
  {
   "cell_type": "code",
   "execution_count": null,
   "id": "9dc0db10",
   "metadata": {},
   "outputs": [],
   "source": [
    "# Define parameters and datasets to pass into trainer. Pass in order of definition\n",
    "starting_features = 5\n",
    "batchsize = 25\n",
    "max_epochs = 50\n",
    "lrmin = 1e-4\n",
    "lrmax = 5e-3\n",
    "train_dset = MD.MD(train_ec, molecule_features, starting_features)\n",
    "val_dset = MD.MD(val_ec, molecule_features, starting_features)\n",
    "test_dset = MD.MD(test_ec, molecule_features, starting_features)\n",
    "\n",
    "# Set the baselines for training, validation, and testing\n",
    "# MSE is basically variance, so the baseline is the variance of the dataset\n",
    "train_var = torch.std(torch.tensor(np.array(train_ec[\"xe\"]).astype(float) / 100.0))**2\n",
    "# train_mean = torch.mean(torch.tensor(np.array(train_ec[\"Te\"])))\n",
    "\n",
    "train_param = \"xe\""
   ]
  },
  {
   "cell_type": "code",
   "execution_count": null,
   "id": "c7370b45",
   "metadata": {
    "scrolled": false
   },
   "outputs": [],
   "source": [
    "# Call training and testing class and send all required parameters \n",
    "importlib.reload(MR)\n",
    "modelrunner = MR.MR(starting_features, batchsize, max_epochs, lrmin, lrmax, \n",
    "                    train_dset, val_dset, test_dset, train_var, train_param)\n",
    "\n",
    "modelrunner.train_and_validate()\n",
    "modelrunner.test_plot_stats()"
   ]
  }
 ],
 "metadata": {
  "colab": {
   "collapsed_sections": [],
   "name": "snn.ipynb",
   "provenance": []
  },
  "kernelspec": {
   "display_name": "Python 3 (ipykernel)",
   "language": "python",
   "name": "python3"
  },
  "language_info": {
   "codemirror_mode": {
    "name": "ipython",
    "version": 3
   },
   "file_extension": ".py",
   "mimetype": "text/x-python",
   "name": "python",
   "nbconvert_exporter": "python",
   "pygments_lexer": "ipython3",
   "version": "3.9.12"
  }
 },
 "nbformat": 4,
 "nbformat_minor": 5
}

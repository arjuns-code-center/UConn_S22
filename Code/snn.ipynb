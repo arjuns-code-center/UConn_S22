{
  "cells": [
    {
      "cell_type": "code",
      "execution_count": 1,
      "id": "44d9d95f",
      "metadata": {
        "colab": {
          "base_uri": "https://localhost:8080/",
          "height": 87
        },
        "id": "44d9d95f",
        "outputId": "c30c769b-bda9-40cc-94b9-d26979e6634a"
      },
      "outputs": [
        {
          "output_type": "execute_result",
          "data": {
            "text/plain": [
              "'\\nLog:\\n5/24: Created file and started the SNN construction. Added in data loading and training to test out with MNIST\\ndatabase but there were errors in setting up the training.\\n5/26: After consulting some sample code from a friend, fixed the training code and data loaders. Tested it and it\\nworks, just not very well. Current train accuracy is 10.5% and test accuracy is 11.37%. Will need to adjust parameters.\\n5/31: Changed up the SNN model and made some big changes to how the MNIST data is made. Currently unable to set up the \\nDataLoader, which I will do later. Once that is working, training can be done. \\n6/1: Copied from jupyter notebook to google collab, and ran the code and got the data to be made. Now the model has a \\nproblem in the Convolutional filters. Need to fix\\n'"
            ],
            "application/vnd.google.colaboratory.intrinsic+json": {
              "type": "string"
            }
          },
          "metadata": {},
          "execution_count": 1
        }
      ],
      "source": [
        "# Author: Arjun Viswanathan\n",
        "# Date Created: 5/26/22\n",
        "# Creating a Siamese Neural Network (SNN) architecture using PyTorch. The jupyter notebook version.\n",
        "# Network takes in 2 sets of inputs, and trains on them to give 2 sets of outputs.\n",
        "# These outputs are then used to compute a distance, and this is passed into a Dense layer to give the output of the SNN\n",
        "\n",
        "'''\n",
        "Log:\n",
        "5/24: Created file and started the SNN construction. Added in data loading and training to test out with MNIST\n",
        "database but there were errors in setting up the training.\n",
        "5/26: After consulting some sample code from a friend, fixed the training code and data loaders. Tested it and it\n",
        "works, just not very well. Current train accuracy is 10.5% and test accuracy is 11.37%. Will need to adjust parameters.\n",
        "5/31: Changed up the SNN model and made some big changes to how the MNIST data is made. Currently unable to set up the \n",
        "DataLoader, which I will do later. Once that is working, training can be done. \n",
        "6/1: Copied from jupyter notebook to google collab, and ran the code and got the data to be made. Now the model has a \n",
        "problem in the Convolutional filters. Need to fix\n",
        "'''"
      ]
    },
    {
      "cell_type": "code",
      "source": [
        "pip install torch"
      ],
      "metadata": {
        "id": "ZdkIs-Izot2G",
        "colab": {
          "base_uri": "https://localhost:8080/"
        },
        "outputId": "c864b7af-51eb-43f2-976d-ce72157e8012"
      },
      "id": "ZdkIs-Izot2G",
      "execution_count": 2,
      "outputs": [
        {
          "output_type": "stream",
          "name": "stdout",
          "text": [
            "Looking in indexes: https://pypi.org/simple, https://us-python.pkg.dev/colab-wheels/public/simple/\n",
            "Requirement already satisfied: torch in /usr/local/lib/python3.7/dist-packages (1.11.0+cu113)\n",
            "Requirement already satisfied: typing-extensions in /usr/local/lib/python3.7/dist-packages (from torch) (4.2.0)\n"
          ]
        }
      ]
    },
    {
      "cell_type": "code",
      "source": [
        "pip install sklearn"
      ],
      "metadata": {
        "id": "Fh5yK9d1rk14",
        "colab": {
          "base_uri": "https://localhost:8080/"
        },
        "outputId": "692725be-30e4-4260-bebf-215d5de42ff7"
      },
      "id": "Fh5yK9d1rk14",
      "execution_count": 3,
      "outputs": [
        {
          "output_type": "stream",
          "name": "stdout",
          "text": [
            "Looking in indexes: https://pypi.org/simple, https://us-python.pkg.dev/colab-wheels/public/simple/\n",
            "Requirement already satisfied: sklearn in /usr/local/lib/python3.7/dist-packages (0.0)\n",
            "Requirement already satisfied: scikit-learn in /usr/local/lib/python3.7/dist-packages (from sklearn) (1.0.2)\n",
            "Requirement already satisfied: numpy>=1.14.6 in /usr/local/lib/python3.7/dist-packages (from scikit-learn->sklearn) (1.21.6)\n",
            "Requirement already satisfied: threadpoolctl>=2.0.0 in /usr/local/lib/python3.7/dist-packages (from scikit-learn->sklearn) (3.1.0)\n",
            "Requirement already satisfied: joblib>=0.11 in /usr/local/lib/python3.7/dist-packages (from scikit-learn->sklearn) (1.1.0)\n",
            "Requirement already satisfied: scipy>=1.1.0 in /usr/local/lib/python3.7/dist-packages (from scikit-learn->sklearn) (1.4.1)\n"
          ]
        }
      ]
    },
    {
      "cell_type": "code",
      "execution_count": 4,
      "id": "8ae6463a",
      "metadata": {
        "id": "8ae6463a"
      },
      "outputs": [],
      "source": [
        "import torch\n",
        "import random\n",
        "import math\n",
        "from sklearn.model_selection import train_test_split\n",
        "from torch.nn import Module, Conv2d, MaxPool2d, Linear\n",
        "import torch.nn.functional as F\n",
        "from torchvision import datasets as dts\n",
        "import torchvision.transforms as transforms\n",
        "from torch.utils.data import DataLoader, Dataset\n",
        "from matplotlib import pyplot as plt\n",
        "import numpy as np"
      ]
    },
    {
      "cell_type": "code",
      "execution_count": 5,
      "id": "737aa713",
      "metadata": {
        "id": "737aa713"
      },
      "outputs": [],
      "source": [
        "class CreateSiameseDataset(Dataset):\n",
        "    def __init__(self):\n",
        "        self.transform = transforms.Compose([transforms.ToTensor()])\n",
        "        # download the MNIST database into a training and validation set, converting to a Tensor as we download\n",
        "        self.dataset = dts.MNIST(\n",
        "            root= './data',\n",
        "            train= True,\n",
        "            download= True,\n",
        "            transform= self.transform\n",
        "        )\n",
        "        \n",
        "        # Get the images and the labels from imported dataset. May change depending on how the dataset is imported in\n",
        "        self.images = self.dataset.data\n",
        "        self.targets = self.dataset.targets\n",
        "    \n",
        "    def __getitem__(self, index):\n",
        "        coinflip = random.randint(0, 1) # 0: same image, 1: different image\n",
        "        set1choice = random.randint(0, len(self.targets))\n",
        "        if coinflip:\n",
        "            while(True): # keep looping until we find the image we want that either matches or differentiates the original image\n",
        "                set2choice = random.randint(0, len(self.targets))\n",
        "                if(self.targets[set1choice] != self.targets[set2choice] and set1choice != set2choice):\n",
        "                    img1 = self.images[set1choice]\n",
        "                    img2 = self.images[set2choice]\n",
        "                    label = torch.tensor(1)\n",
        "                    break # load them and break for next coin flip\n",
        "        else:\n",
        "            while(True):\n",
        "                set2choice = random.randint(0, len(self.targets))\n",
        "                if(self.targets[set1choice] == self.targets[set2choice] and set1choice != set2choice):\n",
        "                    img1 = self.images[set1choice]\n",
        "                    img2 = self.images[set2choice]\n",
        "                    label = torch.tensor(0)\n",
        "                    break\n",
        "        return img1, img2, label\n",
        "    \n",
        "    def __len__(self):\n",
        "        return len(self.images)"
      ]
    },
    {
      "cell_type": "code",
      "execution_count": 6,
      "id": "e0a47ed5",
      "metadata": {
        "id": "e0a47ed5"
      },
      "outputs": [],
      "source": [
        "siamesedata = CreateSiameseDataset()\n",
        "batchsize = 64\n",
        "siamesedataloader = DataLoader(siamesedata, shuffle=True, num_workers=2, batch_size=batchsize)"
      ]
    },
    {
      "cell_type": "code",
      "source": [
        "# plot the data and see what was created in the DataLoader\n",
        "img1, img2, l = next(iter(siamesedataloader))\n",
        "for i in range(1):\n",
        "    plt.figure(i)\n",
        "    plt.imshow(img1[i], cmap='gray')\n",
        "    plt.figure(i+1)\n",
        "    plt.imshow(img2[i], cmap='gray')\n",
        "    print(\"Label: \", l[i])\n",
        "    plt.show()"
      ],
      "metadata": {
        "id": "o92NbOOpu6TR",
        "colab": {
          "base_uri": "https://localhost:8080/",
          "height": 530
        },
        "outputId": "9f004a41-528c-4818-fbff-32a8b43262b3"
      },
      "id": "o92NbOOpu6TR",
      "execution_count": 7,
      "outputs": [
        {
          "output_type": "stream",
          "name": "stdout",
          "text": [
            "Label:  tensor(1)\n"
          ]
        },
        {
          "output_type": "display_data",
          "data": {
            "text/plain": [
              "<Figure size 432x288 with 1 Axes>"
            ],
            "image/png": "[encoded data removed]"
          },
          "metadata": {
            "needs_background": "light"
          }
        },
        {
          "output_type": "display_data",
          "data": {
            "text/plain": [
              "<Figure size 432x288 with 1 Axes>"
            ],
            "image/png": "[encoded data removed]"
          },
          "metadata": {
            "needs_background": "light"
          }
        }
      ]
    },
    {
      "cell_type": "code",
      "source": [
        "# Data logistics. We want it to be approx 50% of 1s and 0s to have good training\n",
        "print(\"All labels: \", l)\n",
        "print(\"Number of 1s: \", np.count_nonzero(l.numpy()==1))\n",
        "print(\"Number of 0s: \", np.count_nonzero(l.numpy()==0))"
      ],
      "metadata": {
        "id": "Wl3FogTNvYY9",
        "colab": {
          "base_uri": "https://localhost:8080/"
        },
        "outputId": "05a7d8e8-e961-4378-aa6a-1d52cc3c4758"
      },
      "id": "Wl3FogTNvYY9",
      "execution_count": 8,
      "outputs": [
        {
          "output_type": "stream",
          "name": "stdout",
          "text": [
            "All labels:  tensor([1, 0, 0, 1, 0, 0, 1, 1, 0, 0, 1, 1, 1, 0, 0, 0, 0, 1, 0, 1, 1, 0, 1, 1,\n",
            "        1, 1, 1, 1, 0, 1, 0, 0, 0, 1, 0, 0, 1, 1, 1, 1, 1, 0, 0, 0, 1, 1, 0, 1,\n",
            "        1, 1, 1, 0, 0, 0, 0, 1, 0, 0, 0, 1, 0, 1, 0, 0])\n",
            "Number of 1s:  32\n",
            "Number of 0s:  32\n"
          ]
        }
      ]
    },
    {
      "cell_type": "code",
      "execution_count": 9,
      "id": "f7caef08",
      "metadata": {
        "id": "f7caef08",
        "colab": {
          "base_uri": "https://localhost:8080/"
        },
        "outputId": "d40e6f6c-0e9f-489d-9d31-1d0fdd880b49"
      },
      "outputs": [
        {
          "output_type": "stream",
          "name": "stdout",
          "text": [
            "Set Image Dimensions:  torch.Size([64, 28, 28])\n",
            "Set Single Image Dimension:  torch.Size([28, 28])\n",
            "Set Label Dimensions:  torch.Size([64])\n"
          ]
        }
      ],
      "source": [
        "# view the dimensions and num classes of the input images\n",
        "for (img1, img2, l) in siamesedataloader:\n",
        "    print(\"Set Image Dimensions: \", img1.shape)\n",
        "    print(\"Set Single Image Dimension: \", img1[0].shape)\n",
        "    print(\"Set Label Dimensions: \", l.shape)\n",
        "    break"
      ]
    },
    {
      "cell_type": "code",
      "execution_count": 10,
      "id": "f7b330c0",
      "metadata": {
        "id": "f7b330c0"
      },
      "outputs": [],
      "source": [
        "# SNN class with model\n",
        "class SiameseNeuralNetwork(Module):\n",
        "    def __init__(self):\n",
        "        super(SiameseNeuralNetwork, self).__init__()\n",
        "        # First L-2 layers have convolutions followed by max pooling and activation ReLU\n",
        "        # The L-1 layer is a Dense layer which will give a feature vector with activation Sigmoid\n",
        "        # The L layer (output layer) will then compute the classification\n",
        "        self.conv1 = Conv2d(in_channels=1, out_channels=32, kernel_size=3, stride=1, padding='same')\n",
        "        self.pool1 = MaxPool2d(kernel_size=2, stride=2, padding=1)\n",
        "\n",
        "        self.conv2 = Conv2d(in_channels=32, out_channels=64, kernel_size=3, stride=1, padding='same')\n",
        "        self.pool2 = MaxPool2d(kernel_size=2, stride=2, padding=1)\n",
        "\n",
        "        self.conv3 = Conv2d(in_channels=64, out_channels=128, kernel_size=3, stride=1, padding='same')\n",
        "        self.pool3 = MaxPool2d(kernel_size=2, stride=2, padding=1)\n",
        "\n",
        "        self.conv4 = Conv2d(in_channels=128, out_channels=256, kernel_size=3, stride=1, padding='same')\n",
        "\n",
        "        self.fc1 = Linear(in_features=256, out_features=1024)\n",
        "        self.fc2 = Linear(in_features=1024, out_features=1)\n",
        "\n",
        "    def forward_on_input(self, x):\n",
        "        x = self.pool1(F.relu(self.conv1(x)))\n",
        "        x = self.pool2(F.relu(self.conv2(x)))\n",
        "        x = self.pool3(F.relu(self.conv3(x)))\n",
        "        x = F.relu(self.conv4(x))\n",
        "\n",
        "        x = x.flatten(start_dim=1)\n",
        "\n",
        "        x = torch.sigmoid(self.fc1(x))\n",
        "        return x\n",
        "\n",
        "    def forward(self, x1, x2):\n",
        "        y1 = self.forward_on_input(x1)\n",
        "        y2 = self.forward_on_input(x2)\n",
        "        d = torch.abs(y1 - y2)\n",
        "        p = self.fc2(d)\n",
        "        return p"
      ]
    },
    {
      "cell_type": "code",
      "execution_count": 11,
      "id": "4cfb3e86",
      "metadata": {
        "id": "4cfb3e86"
      },
      "outputs": [],
      "source": [
        "# Train the model\n",
        "model = SiameseNeuralNetwork()\n",
        "\n",
        "# If a GPU is available, then send it to that GPU rather than train on CPU\n",
        "device = torch.device(\"cuda:0\" if torch.cuda.is_available() else \"cpu\")\n",
        "num_epochs = 10"
      ]
    },
    {
      "cell_type": "code",
      "execution_count": 12,
      "id": "724168f1",
      "metadata": {
        "id": "724168f1",
        "colab": {
          "base_uri": "https://localhost:8080/"
        },
        "outputId": "a4db6134-9442-40d7-ed45-9dd42f2169dc"
      },
      "outputs": [
        {
          "output_type": "execute_result",
          "data": {
            "text/plain": [
              "device(type='cpu')"
            ]
          },
          "metadata": {},
          "execution_count": 12
        }
      ],
      "source": [
        "device"
      ]
    },
    {
      "cell_type": "code",
      "execution_count": 13,
      "id": "0df92422",
      "metadata": {
        "id": "0df92422",
        "colab": {
          "base_uri": "https://localhost:8080/"
        },
        "outputId": "160483fd-2c1b-4603-8a1b-09de7f275940"
      },
      "outputs": [
        {
          "output_type": "stream",
          "name": "stdout",
          "text": [
            "SiameseNeuralNetwork(\n",
            "  (conv1): Conv2d(1, 32, kernel_size=(3, 3), stride=(1, 1), padding=same)\n",
            "  (pool1): MaxPool2d(kernel_size=2, stride=2, padding=1, dilation=1, ceil_mode=False)\n",
            "  (conv2): Conv2d(32, 64, kernel_size=(3, 3), stride=(1, 1), padding=same)\n",
            "  (pool2): MaxPool2d(kernel_size=2, stride=2, padding=1, dilation=1, ceil_mode=False)\n",
            "  (conv3): Conv2d(64, 128, kernel_size=(3, 3), stride=(1, 1), padding=same)\n",
            "  (pool3): MaxPool2d(kernel_size=2, stride=2, padding=1, dilation=1, ceil_mode=False)\n",
            "  (conv4): Conv2d(128, 256, kernel_size=(3, 3), stride=(1, 1), padding=same)\n",
            "  (fc1): Linear(in_features=256, out_features=1024, bias=True)\n",
            "  (fc2): Linear(in_features=1024, out_features=1, bias=True)\n",
            ")\n"
          ]
        }
      ],
      "source": [
        "# show model summary\n",
        "print(model)"
      ]
    },
    {
      "cell_type": "code",
      "execution_count": 14,
      "id": "432a8a02",
      "metadata": {
        "id": "432a8a02"
      },
      "outputs": [],
      "source": [
        "# set the loss, optimizer, and model device\n",
        "opt = torch.optim.Adam(model.parameters(), lr=0.005)\n",
        "model = model.to(device)"
      ]
    },
    {
      "cell_type": "code",
      "execution_count": 15,
      "id": "18842570",
      "metadata": {
        "id": "18842570"
      },
      "outputs": [],
      "source": [
        "# Compute the accuracy of the model at each epoch\n",
        "def accuracy(output, target, batch_size):\n",
        "    corrects = (torch.max(output, 1)[1].view(target.size()).data == target.data).sum()\n",
        "    accuracy = 100.0 * corrects / batch_size\n",
        "    return accuracy.item()"
      ]
    },
    {
      "cell_type": "code",
      "execution_count": null,
      "id": "37924ca0",
      "metadata": {
        "id": "37924ca0"
      },
      "outputs": [],
      "source": [
        "# training\n",
        "for epoch in range(num_epochs):\n",
        "    train_running_loss = 0.0\n",
        "    train_accuracy = 0.0\n",
        "    model = model.train()\n",
        "\n",
        "    # training step: iterate through the batch and get the images and labels at each x\n",
        "    for x, (x1, x2, l) in enumerate(siamesedataloader):        \n",
        "        # sending images and labels to device (GPU or CPU)\n",
        "        x1 = x1.to(device)\n",
        "        x2 = x2.to(device)\n",
        "        l = l.to(device)\n",
        "\n",
        "        # pass 2 sets of inputs into the snn and gives p, the output\n",
        "        output = model(x1, x2)\n",
        "        loss = l*math.log(output) + (1-l)*math.log(1-output)\n",
        "\n",
        "        opt.zero_grad()\n",
        "        loss.backward()\n",
        "        opt.step()\n",
        "\n",
        "        train_running_loss += loss.detach().item()\n",
        "        train_accuracy += accuracy(output, labels, batchsize)\n",
        "\n",
        "    model.eval()\n",
        "    print('Epoch %d | Loss: %.4f | Train Accuracy: %.2f'%(epoch+1, train_running_loss / x, train_accuracy / x))"
      ]
    },
    {
      "cell_type": "code",
      "execution_count": null,
      "id": "6206c6cf",
      "metadata": {
        "id": "6206c6cf"
      },
      "outputs": [],
      "source": [
        "test_accuracy = 0.0\n",
        "for y, (y1, y2, l) in enumerate(siamesedataloader):\n",
        "    y1 = y1.to(device)\n",
        "    y2 = y2.to(device)\n",
        "    l = l.to(device)\n",
        "\n",
        "    outputs = model(y1, y2)\n",
        "    test_accuracy += accuracy(outputs, l, batchsize)\n",
        "print('Test Accuracy: %.2f'%(test_accuracy / y))"
      ]
    }
  ],
  "metadata": {
    "kernelspec": {
      "display_name": "Python 3 (ipykernel)",
      "language": "python",
      "name": "python3"
    },
    "language_info": {
      "codemirror_mode": {
        "name": "ipython",
        "version": 3
      },
      "file_extension": ".py",
      "mimetype": "text/x-python",
      "name": "python",
      "nbconvert_exporter": "python",
      "pygments_lexer": "ipython3",
      "version": "3.9.12"
    },
    "colab": {
      "name": "snn.ipynb",
      "provenance": [],
      "collapsed_sections": []
    }
  },
  "nbformat": 4,
  "nbformat_minor": 5
}
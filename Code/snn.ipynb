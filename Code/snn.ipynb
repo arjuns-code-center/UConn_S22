{
 "cells": [
  {
   "cell_type": "code",
   "execution_count": null,
   "id": "44d9d95f",
   "metadata": {
    "id": "44d9d95f"
   },
   "outputs": [],
   "source": [
    "# Author: Arjun Viswanathan\n",
    "# Date Created: 5/26/22\n",
    "# Creating a Siamese Neural Network (SNN) architecture using PyTorch. The jupyter notebook version.\n",
    "# Network takes in 2 sets of inputs, and trains on them to give 2 sets of outputs.\n",
    "# These outputs are then used to compute a distance, and this is passed into a Dense layer to give the output of the SNN\n",
    "\n",
    "'''\n",
    "Log:\n",
    "5/24: Created file and started the SNN construction. Added in data loading and training to test out with MNIST\n",
    "database but there were errors in setting up the training.\n",
    "5/26: After consulting some sample code from a friend, fixed the training code and data loaders. Tested it and it\n",
    "works, just not very well. Current train accuracy is 10.5% and test accuracy is 11.37%. Will need to adjust parameters.\n",
    "5/31: Changed up the SNN model and made some big changes to how the MNIST data is made. Currently unable to set up the \n",
    "DataLoader, which I will do later. Once that is working, training can be done. \n",
    "6/1: Copied from jupyter notebook to google collab, and ran the code and got the data to be made. Now the model has a \n",
    "problem in the Convolutional filters. Need to fix.\n",
    "6/2: Updated the SNN model and removed the MNIST dataloading. Tried making optimizer from paper, but hit a roadblock.\n",
    "Currently just have the model template and with training and testing. Once data is available, can import and test.\n",
    "TODO: Update the optimizer, import in data and test everything out to see how well it works. \n",
    "'''"
   ]
  },
  {
   "cell_type": "code",
   "execution_count": null,
   "id": "8ae6463a",
   "metadata": {
    "executionInfo": {
     "elapsed": 1568,
     "status": "ok",
     "timestamp": 1654188896478,
     "user": {
      "displayName": "Arjun Viswanathan",
      "userId": "09010050134735347675"
     },
     "user_tz": 240
    },
    "id": "8ae6463a"
   },
   "outputs": [],
   "source": [
    "import torch\n",
    "import pandas as pd\n",
    "import numpy as np\n",
    "from matplotlib import pyplot as plt\n",
    "import random\n",
    "import math\n",
    "from sklearn.model_selection import train_test_split\n",
    "from torch.nn import Module, Conv2d, MaxPool2d, Linear\n",
    "import torch.nn.functional as F\n",
    "from torch.utils.data import DataLoader, Dataset"
   ]
  },
  {
   "cell_type": "code",
   "execution_count": null,
   "id": "f7b330c0",
   "metadata": {
    "executionInfo": {
     "elapsed": 9,
     "status": "ok",
     "timestamp": 1654188896479,
     "user": {
      "displayName": "Arjun Viswanathan",
      "userId": "09010050134735347675"
     },
     "user_tz": 240
    },
    "id": "f7b330c0"
   },
   "outputs": [],
   "source": [
    "# SNN class with model\n",
    "class SiameseNeuralNetwork(Module):\n",
    "    def __init__(self, start_features):\n",
    "        super(SiameseNeuralNetwork, self).__init__()\n",
    "        \n",
    "        self.fc1 = Linear(in_features=start_features, out_features=16)\n",
    "        self.fc2 = Linear(in_features=16, out_features=32)\n",
    "        self.fc3 = Linear(in_features=32, out_features=64)\n",
    "        \n",
    "        # create the feature vector for the input data\n",
    "        self.fc4 = Linear(in_features=64, out_features=256)\n",
    "        \n",
    "        # final stage where prediction is made\n",
    "        self.fc5 = Linear(in_features=256, out_features=1)\n",
    "\n",
    "    def forward_on_input(self, x):\n",
    "        return torch.sigmoid(self.fc4(F.relu(self.fc3(F.relu(self.fc2(F.relu(self.fc1(x))))))))\n",
    "\n",
    "    def forward(self, x1, x2):\n",
    "        y1 = self.forward_on_input(x1)\n",
    "        y2 = self.forward_on_input(x2)\n",
    "        d = torch.abs(y1 - y2)           # L1 siamese distance metric\n",
    "        p = self.fc5(d)\n",
    "        return p"
   ]
  },
  {
   "cell_type": "code",
   "execution_count": null,
   "id": "c576c58d",
   "metadata": {
    "executionInfo": {
     "elapsed": 9,
     "status": "ok",
     "timestamp": 1654188896481,
     "user": {
      "displayName": "Arjun Viswanathan",
      "userId": "09010050134735347675"
     },
     "user_tz": 240
    },
    "id": "c576c58d"
   },
   "outputs": [],
   "source": [
    "# define parameters for training and device\n",
    "starting_features = 4\n",
    "batchsize = 16\n",
    "num_epochs = 10\n",
    "# If a GPU is available, then send it to that GPU rather than train on CPU\n",
    "device = torch.device(\"cuda:0\" if torch.cuda.is_available() else \"cpu\")"
   ]
  },
  {
   "cell_type": "code",
   "execution_count": null,
   "id": "724168f1",
   "metadata": {
    "id": "724168f1"
   },
   "outputs": [],
   "source": [
    "device"
   ]
  },
  {
   "cell_type": "code",
   "execution_count": null,
   "id": "4ce25a7d",
   "metadata": {
    "executionInfo": {
     "elapsed": 9,
     "status": "ok",
     "timestamp": 1654188896483,
     "user": {
      "displayName": "Arjun Viswanathan",
      "userId": "09010050134735347675"
     },
     "user_tz": 240
    },
    "id": "4ce25a7d"
   },
   "outputs": [],
   "source": [
    "class CreateSiameseDataset(DataLoader):\n",
    "    def __init__(self):\n",
    "        # TODO: Get the data and set the variables accordingly\n",
    "        self.dataset = None\n",
    "        self.data = None\n",
    "        self.labels = None\n",
    "    \n",
    "    def __getitem__(self, index):\n",
    "        coinflip = random.randint(0, 1) # 0: same image, 1: different image\n",
    "        set1choice = random.randint(0, len(self.labels))\n",
    "        if coinflip:\n",
    "            while(True): # keep looping until we find the image we want that either matches or differentiates the original image\n",
    "                set2choice = random.randint(0, len(self.labels))\n",
    "                if(self.labels[set1choice] != self.labels[set2choice] and set1choice != set2choice):\n",
    "                    x1 = self.data[set1choice]\n",
    "                    x2 = self.data[set2choice]\n",
    "                    label = torch.tensor(1)\n",
    "                    break # load them and break for next coin flip\n",
    "        else:\n",
    "            while(True):\n",
    "                set2choice = random.randint(0, len(self.labels))\n",
    "                if(self.labels[set1choice] == self.labels[set2choice] and set1choice != set2choice):\n",
    "                    x1 = self.data[set1choice]\n",
    "                    x2 = self.data[set2choice]\n",
    "                    label = torch.tensor(0)\n",
    "                    break\n",
    "        return x1, x2, label\n",
    "    \n",
    "    def __len__(self):\n",
    "        return len(self.data)"
   ]
  },
  {
   "cell_type": "code",
   "execution_count": null,
   "id": "778839b4",
   "metadata": {
    "id": "778839b4"
   },
   "outputs": [],
   "source": [
    "siamesedata = CreateSiameseDataset()\n",
    "siamesedataloader = DataLoader(siamesedata, shuffle=True, batch_size=batchsize)"
   ]
  },
  {
   "cell_type": "code",
   "execution_count": null,
   "id": "4d040c5f",
   "metadata": {
    "executionInfo": {
     "elapsed": 182,
     "status": "aborted",
     "timestamp": 1654188896845,
     "user": {
      "displayName": "Arjun Viswanathan",
      "userId": "09010050134735347675"
     },
     "user_tz": 240
    },
    "id": "4d040c5f"
   },
   "outputs": [],
   "source": [
    "model = SiameseNeuralNetwork(starting_features).to(device)\n",
    "print(model)"
   ]
  },
  {
   "cell_type": "code",
   "execution_count": null,
   "id": "bd5069d2",
   "metadata": {
    "executionInfo": {
     "elapsed": 183,
     "status": "aborted",
     "timestamp": 1654188896846,
     "user": {
      "displayName": "Arjun Viswanathan",
      "userId": "09010050134735347675"
     },
     "user_tz": 240
    },
    "id": "bd5069d2"
   },
   "outputs": [],
   "source": [
    "# currently using Adam, but will need to change according to the paper on SNNs\n",
    "opt = torch.optim.Adam(model.parameters(), lr=0.005)"
   ]
  },
  {
   "cell_type": "code",
   "execution_count": null,
   "id": "18842570",
   "metadata": {
    "executionInfo": {
     "elapsed": 184,
     "status": "aborted",
     "timestamp": 1654188896847,
     "user": {
      "displayName": "Arjun Viswanathan",
      "userId": "09010050134735347675"
     },
     "user_tz": 240
    },
    "id": "18842570"
   },
   "outputs": [],
   "source": [
    "# Compute the accuracy of the model at each epoch\n",
    "def accuracy(output, target, batch_size):\n",
    "    corrects = (torch.max(output, 1)[1].view(target.size()).data == target.data).sum()\n",
    "    accuracy = 100.0 * corrects / batch_size\n",
    "    return accuracy.item()"
   ]
  },
  {
   "cell_type": "code",
   "execution_count": null,
   "id": "37924ca0",
   "metadata": {
    "executionInfo": {
     "elapsed": 6,
     "status": "aborted",
     "timestamp": 1654188896848,
     "user": {
      "displayName": "Arjun Viswanathan",
      "userId": "09010050134735347675"
     },
     "user_tz": 240
    },
    "id": "37924ca0"
   },
   "outputs": [],
   "source": [
    "# training\n",
    "for epoch in range(num_epochs):\n",
    "    train_running_loss = 0.0\n",
    "    train_accuracy = 0.0\n",
    "    model = model.train()\n",
    "\n",
    "    # training step: iterate through the batch and get the images and labels at each x\n",
    "    for x, (x1, x2, l) in enumerate(siamesedataloader):        \n",
    "        # sending images and labels to device (GPU or CPU)\n",
    "        x1 = x1.to(device)\n",
    "        x2 = x2.to(device)\n",
    "        l = l.to(device)\n",
    "\n",
    "        # pass 2 sets of inputs into the snn and gives p, the output\n",
    "        output = model(x1, x2)\n",
    "        print(output)\n",
    "        loss = l*math.log(output) + (1-l)*math.log(1-output)\n",
    "\n",
    "        opt.zero_grad()\n",
    "        loss.backward()\n",
    "        opt.step()\n",
    "\n",
    "        train_running_loss += loss.detach().item()\n",
    "        train_accuracy += accuracy(output, labels, batchsize)\n",
    "\n",
    "    model.eval()\n",
    "    print('Epoch %d | Loss: %.4f | Train Accuracy: %.2f'%(epoch+1, train_running_loss / x, train_accuracy / x))"
   ]
  },
  {
   "cell_type": "code",
   "execution_count": null,
   "id": "6206c6cf",
   "metadata": {
    "executionInfo": {
     "elapsed": 6,
     "status": "aborted",
     "timestamp": 1654188896848,
     "user": {
      "displayName": "Arjun Viswanathan",
      "userId": "09010050134735347675"
     },
     "user_tz": 240
    },
    "id": "6206c6cf"
   },
   "outputs": [],
   "source": [
    "test_accuracy = 0.0\n",
    "for y, (y1, y2, l) in enumerate(siamesedataloader):\n",
    "    y1 = y1.to(device)\n",
    "    y2 = y2.to(device)\n",
    "    l = l.to(device)\n",
    "\n",
    "    outputs = model(y1, y2)\n",
    "    test_accuracy += accuracy(outputs, l, batchsize)\n",
    "print('Test Accuracy: %.2f'%(test_accuracy / y))"
   ]
  }
 ],
 "metadata": {
  "colab": {
   "collapsed_sections": [],
   "name": "snn.ipynb",
   "provenance": []
  },
  "kernelspec": {
   "display_name": "Python 3 (ipykernel)",
   "language": "python",
   "name": "python3"
  },
  "language_info": {
   "codemirror_mode": {
    "name": "ipython",
    "version": 3
   },
   "file_extension": ".py",
   "mimetype": "text/x-python",
   "name": "python",
   "nbconvert_exporter": "python",
   "pygments_lexer": "ipython3",
   "version": "3.9.12"
  }
 },
 "nbformat": 4,
 "nbformat_minor": 5
}

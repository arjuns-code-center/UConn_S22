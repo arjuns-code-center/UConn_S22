{
 "cells": [
  {
   "cell_type": "code",
   "execution_count": 1,
   "id": "44d9d95f",
   "metadata": {},
   "outputs": [
    {
     "data": {
      "text/plain": [
       "'\\nLog:\\n5/24: Created file and started the SNN construction. Added in data loading and training to test out with MNIST\\ndatabase but there were errors in setting up the training.\\n5/26: After consulting some sample code from a friend, fixed the training code and data loaders. Tested it and it\\nworks, just not very well. Current train accuracy is 10.5% and test accuracy is 11.37%. Will need to adjust parameters. Made a\\n'"
      ]
     },
     "execution_count": 1,
     "metadata": {},
     "output_type": "execute_result"
    }
   ],
   "source": [
    "# Author: Arjun Viswanathan\n",
    "# Date Created: 5/26/22\n",
    "# Creating a Siamese Neural Network (SNN) architecture using PyTorch. The jupyter notebook version.\n",
    "# Network takes in 2 sets of inputs, and trains on them to give 2 sets of outputs.\n",
    "# These outputs are then used to compute a distance, and this is passed into a Dense layer to give the output of the SNN\n",
    "\n",
    "'''\n",
    "Log:\n",
    "5/24: Created file and started the SNN construction. Added in data loading and training to test out with MNIST\n",
    "database but there were errors in setting up the training.\n",
    "5/26: After consulting some sample code from a friend, fixed the training code and data loaders. Tested it and it\n",
    "works, just not very well. Current train accuracy is 10.5% and test accuracy is 11.37%. Will need to adjust parameters. Made a\n",
    "'''"
   ]
  },
  {
   "cell_type": "code",
   "execution_count": 2,
   "id": "8ae6463a",
   "metadata": {},
   "outputs": [],
   "source": [
    "import torch\n",
    "from torch.nn import Module, Conv2d, MaxPool2d, Linear\n",
    "import torch.nn.functional as F\n",
    "from torchvision import datasets as dts\n",
    "import torchvision.transforms as transforms\n",
    "from torch.utils.data import DataLoader\n",
    "from matplotlib import pyplot as plt"
   ]
  },
  {
   "cell_type": "code",
   "execution_count": 3,
   "id": "8bf58057",
   "metadata": {},
   "outputs": [],
   "source": [
    "# Load the MNIST Data\n",
    "batch_size = 64\n",
    "\n",
    "# set variable transform to covert MNIST data into a Tensor\n",
    "transform = transforms.Compose([transforms.ToTensor()])\n",
    "\n",
    "# download the MNIST database into a training and validation set, converting to a Tensor as we download\n",
    "train = dts.MNIST(\n",
    "    root= './data',\n",
    "    train= True,\n",
    "    download= True,\n",
    "    transform=transform\n",
    ")\n",
    "\n",
    "test = dts.MNIST(\n",
    "    root= './data',\n",
    "    train= False,\n",
    "    download= True,\n",
    "    transform= transform\n",
    ")\n",
    "\n",
    "# Use DataLoader to build convenient data loaders (iterators) which feed batches of data to the model\n",
    "train_loader = DataLoader(train, batch_size=batch_size, shuffle=True)\n",
    "test_loader = DataLoader(test, batch_size=batch_size, shuffle=True)"
   ]
  },
  {
   "cell_type": "code",
   "execution_count": 4,
   "id": "06cb76d9",
   "metadata": {},
   "outputs": [
    {
     "data": {
      "image/png": "[encoded data removed]",
      "text/plain": [
       "<Figure size 432x288 with 1 Axes>"
      ]
     },
     "metadata": {
      "needs_background": "light"
     },
     "output_type": "display_data"
    },
    {
     "data": {
      "image/png": "[encoded data removed]",
      "text/plain": [
       "<Figure size 432x288 with 1 Axes>"
      ]
     },
     "metadata": {
      "needs_background": "light"
     },
     "output_type": "display_data"
    },
    {
     "data": {
      "image/png": "[encoded data removed]",
      "text/plain": [
       "<Figure size 432x288 with 1 Axes>"
      ]
     },
     "metadata": {
      "needs_background": "light"
     },
     "output_type": "display_data"
    },
    {
     "data": {
      "image/png": "[encoded data removed]",
      "text/plain": [
       "<Figure size 432x288 with 1 Axes>"
      ]
     },
     "metadata": {
      "needs_background": "light"
     },
     "output_type": "display_data"
    },
    {
     "data": {
      "image/png": "[encoded data removed]",
      "text/plain": [
       "<Figure size 432x288 with 1 Axes>"
      ]
     },
     "metadata": {
      "needs_background": "light"
     },
     "output_type": "display_data"
    }
   ],
   "source": [
    "# create 5 image plots showing MNIST images\n",
    "dataiter = iter(train_loader)\n",
    "images, labels = dataiter.__next__()\n",
    "imgs = images.squeeze()\n",
    "    \n",
    "for img in range(5):\n",
    "    plt.figure(img)\n",
    "    plt.imshow(imgs[img], cmap='gray')\n",
    "plt.show()"
   ]
  },
  {
   "cell_type": "code",
   "execution_count": 5,
   "id": "f7caef08",
   "metadata": {},
   "outputs": [
    {
     "name": "stdout",
     "output_type": "stream",
     "text": [
      "Image Batch Dimensions:  torch.Size([64, 1, 28, 28])\n",
      "Single Image Dimensions:  torch.Size([1, 28, 28])\n",
      "Labels Batch Dimensions:  torch.Size([64])\n",
      "Train Dataset # Classes:  10\n",
      "Test Dataset # Classes:  10\n"
     ]
    }
   ],
   "source": [
    "# view the dimensions and num classes of the input images\n",
    "for images, labels in train_loader:\n",
    "    print(\"Image Batch Dimensions: \", images.shape)\n",
    "    print(\"Single Image Dimensions: \", images[0].shape)\n",
    "    print(\"Labels Batch Dimensions: \", labels.shape)\n",
    "    break\n",
    "\n",
    "print(\"Train Dataset # Classes: \", len(train.classes))\n",
    "print(\"Test Dataset # Classes: \", len(test.classes))"
   ]
  },
  {
   "cell_type": "code",
   "execution_count": 6,
   "id": "f7b330c0",
   "metadata": {},
   "outputs": [],
   "source": [
    "# SNN class with model\n",
    "class SiameseNeuralNetwork(Module):\n",
    "    def __init__(self):\n",
    "        super(SiameseNeuralNetwork, self).__init__()\n",
    "        # First L-2 layers have convolutions followed by max pooling and activation ReLU\n",
    "        # The L-1 layer is a Dense layer which will give a feature vector with activation Sigmoid\n",
    "        # The L layer (output layer) will then compute the classification\n",
    "        self.conv1 = Conv2d(in_channels=1, out_channels=32, kernel_size=7, stride=1, padding='same')\n",
    "        self.pool1 = MaxPool2d(kernel_size=2, stride=2, padding=1)\n",
    "\n",
    "        self.conv2 = Conv2d(in_channels=32, out_channels=64, kernel_size=5, stride=1, padding='same')\n",
    "        self.pool2 = MaxPool2d(kernel_size=2, stride=2, padding=1)\n",
    "\n",
    "        self.conv3 = Conv2d(in_channels=64, out_channels=128, kernel_size=3, stride=1, padding='same')\n",
    "        self.pool3 = MaxPool2d(kernel_size=2, stride=2, padding=1)\n",
    "\n",
    "        self.conv4 = Conv2d(in_channels=128, out_channels=256, kernel_size=3, stride=1, padding='same')\n",
    "\n",
    "        self.fc1 = Linear(in_features=6400, out_features=1024)\n",
    "        self.fc2 = Linear(in_features=1024, out_features=10)\n",
    "\n",
    "    def forward_on_input(self, x):\n",
    "        x = self.pool1(F.relu(self.conv1(x)))\n",
    "        x = self.pool2(F.relu(self.conv2(x)))\n",
    "        x = self.pool3(F.relu(self.conv3(x)))\n",
    "        x = F.relu(self.conv4(x))\n",
    "\n",
    "        x = x.flatten(start_dim=1)\n",
    "\n",
    "        x = torch.sigmoid(self.fc1(x))\n",
    "        return x\n",
    "\n",
    "    def forward(self, x1, x2):\n",
    "        y1 = self.forward_on_input(x1)\n",
    "        y2 = self.forward_on_input(x2)\n",
    "        d = torch.abs(y1 - y2)\n",
    "        p = self.fc2(d)\n",
    "        return p"
   ]
  },
  {
   "cell_type": "code",
   "execution_count": 7,
   "id": "4cfb3e86",
   "metadata": {},
   "outputs": [],
   "source": [
    "# Train the model\n",
    "model = SiameseNeuralNetwork()\n",
    "\n",
    "# If a GPU is available, then send it to that GPU rather than train on CPU\n",
    "device = torch.device(\"cuda:0\" if torch.cuda.is_available() else \"cpu\")\n",
    "num_epochs = 10"
   ]
  },
  {
   "cell_type": "code",
   "execution_count": 8,
   "id": "0df92422",
   "metadata": {},
   "outputs": [
    {
     "name": "stdout",
     "output_type": "stream",
     "text": [
      "SiameseNeuralNetwork(\n",
      "  (conv1): Conv2d(1, 32, kernel_size=(7, 7), stride=(1, 1), padding=same)\n",
      "  (pool1): MaxPool2d(kernel_size=2, stride=2, padding=1, dilation=1, ceil_mode=False)\n",
      "  (conv2): Conv2d(32, 64, kernel_size=(5, 5), stride=(1, 1), padding=same)\n",
      "  (pool2): MaxPool2d(kernel_size=2, stride=2, padding=1, dilation=1, ceil_mode=False)\n",
      "  (conv3): Conv2d(64, 128, kernel_size=(3, 3), stride=(1, 1), padding=same)\n",
      "  (pool3): MaxPool2d(kernel_size=2, stride=2, padding=1, dilation=1, ceil_mode=False)\n",
      "  (conv4): Conv2d(128, 256, kernel_size=(3, 3), stride=(1, 1), padding=same)\n",
      "  (fc1): Linear(in_features=6400, out_features=1024, bias=True)\n",
      "  (fc2): Linear(in_features=1024, out_features=10, bias=True)\n",
      ")\n"
     ]
    }
   ],
   "source": [
    "# show model summary\n",
    "print(model)"
   ]
  },
  {
   "cell_type": "code",
   "execution_count": 9,
   "id": "432a8a02",
   "metadata": {},
   "outputs": [],
   "source": [
    "# set the loss, optimizer, and model device\n",
    "loss = torch.nn.CrossEntropyLoss()\n",
    "opt = torch.optim.Adam(model.parameters(), lr=0.05)\n",
    "model = model.to(device)"
   ]
  },
  {
   "cell_type": "code",
   "execution_count": 10,
   "id": "18842570",
   "metadata": {},
   "outputs": [],
   "source": [
    "# Compute the accuracy of the model at each epoch\n",
    "def accuracy(output, target, batch_size):\n",
    "    corrects = (torch.max(output, 1)[1].view(target.size()).data == target.data).sum()\n",
    "    accuracy = 100.0 * corrects / batch_size\n",
    "    return accuracy.item()"
   ]
  },
  {
   "cell_type": "code",
   "execution_count": 11,
   "id": "37924ca0",
   "metadata": {},
   "outputs": [
    {
     "name": "stdout",
     "output_type": "stream",
     "text": [
      "Epoch 1 | Loss: 2.3083 | Train Accuracy: 10.36\n",
      "Epoch 2 | Loss: 2.3080 | Train Accuracy: 10.58\n",
      "Epoch 3 | Loss: 2.3083 | Train Accuracy: 10.58\n",
      "Epoch 4 | Loss: 2.3082 | Train Accuracy: 10.56\n",
      "Epoch 5 | Loss: 2.3082 | Train Accuracy: 10.34\n",
      "Epoch 6 | Loss: 2.3082 | Train Accuracy: 10.57\n",
      "Epoch 7 | Loss: 2.3082 | Train Accuracy: 10.78\n",
      "Epoch 8 | Loss: 2.3076 | Train Accuracy: 10.67\n",
      "Epoch 9 | Loss: 2.3080 | Train Accuracy: 10.52\n",
      "Epoch 10 | Loss: 2.3080 | Train Accuracy: 10.61\n"
     ]
    }
   ],
   "source": [
    "# training\n",
    "for epoch in range(num_epochs):\n",
    "    train_running_loss = 0.0\n",
    "    train_accuracy = 0.0\n",
    "    model = model.train()\n",
    "\n",
    "    # training step: iterate through the batch and get the images and labels at each x\n",
    "    for x, (images, labels) in enumerate(train_loader):\n",
    "        # sending images and labels to device (GPU or CPU)\n",
    "        images = images.to(device)\n",
    "        labels = labels.to(device)\n",
    "\n",
    "        # pass 2 sets of inputs into the snn and gives p, the output\n",
    "        output = model(images, images)\n",
    "        losses = loss(output, labels)\n",
    "\n",
    "        opt.zero_grad()\n",
    "        losses.backward()\n",
    "        opt.step()\n",
    "\n",
    "        train_running_loss += losses.item()\n",
    "        train_accuracy += accuracy(output, labels, batch_size)\n",
    "\n",
    "    model.eval()\n",
    "    print('Epoch %d | Loss: %.4f | Train Accuracy: %.2f'%(epoch+1, train_running_loss / x, train_accuracy / x))"
   ]
  },
  {
   "cell_type": "code",
   "execution_count": 12,
   "id": "6206c6cf",
   "metadata": {},
   "outputs": [
    {
     "name": "stdout",
     "output_type": "stream",
     "text": [
      "Test Accuracy: 11.37\n"
     ]
    }
   ],
   "source": [
    "test_accuracy = 0.0\n",
    "for y, (images, labels) in enumerate(test_loader):\n",
    "    images = images.to(device)\n",
    "    labels = labels.to(device)\n",
    "\n",
    "    outputs = model(images, images)\n",
    "    test_accuracy += accuracy(outputs, labels, batch_size)\n",
    "print('Test Accuracy: %.2f'%(test_accuracy / y))"
   ]
  }
 ],
 "metadata": {
  "kernelspec": {
   "display_name": "Python 3 (ipykernel)",
   "language": "python",
   "name": "python3"
  },
  "language_info": {
   "codemirror_mode": {
    "name": "ipython",
    "version": 3
   },
   "file_extension": ".py",
   "mimetype": "text/x-python",
   "name": "python",
   "nbconvert_exporter": "python",
   "pygments_lexer": "ipython3",
   "version": "3.9.12"
  }
 },
 "nbformat": 4,
 "nbformat_minor": 5
}

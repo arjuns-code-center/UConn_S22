{
 "cells": [
  {
   "cell_type": "raw",
   "id": "ff6355e5",
   "metadata": {
    "id": "44d9d95f"
   },
   "source": [
    "# Author: Arjun Viswanathan\n",
    "# Date Created: 5/26/22\n",
    "# Creating a Siamese Neural Network (SNN) architecture using PyTorch.\n",
    "# Network takes in 2 sets of inputs, and trains on them to gives 1 output, which can be the eutectic proportion or temperature.\n",
    "# Currently using eutectic temperatures.\n",
    "\n",
    "# TODO: Figure out why Te validation loss does not change even when training loss goes down by a LOT. "
   ]
  },
  {
   "cell_type": "code",
   "execution_count": null,
   "id": "8ae6463a",
   "metadata": {
    "executionInfo": {
     "elapsed": 1568,
     "status": "ok",
     "timestamp": 1654188896478,
     "user": {
      "displayName": "Arjun Viswanathan",
      "userId": "09010050134735347675"
     },
     "user_tz": 240
    },
    "id": "8ae6463a"
   },
   "outputs": [],
   "source": [
    "import torch\n",
    "import pandas as pd\n",
    "import numpy as np\n",
    "import importlib\n",
    "import ModelRunner as MR\n",
    "import MakeDataset as MD\n",
    "import SiameseNeuralNetwork as SNN\n",
    "import SimpleNeuralNetwork as SimpNN\n",
    "from matplotlib import pyplot as plt\n",
    "from pubchempy import *\n",
    "from sklearn.preprocessing import StandardScaler\n",
    "from sklearn.metrics import r2_score\n",
    "import PeriodicTable as PT\n",
    "import re"
   ]
  },
  {
   "cell_type": "code",
   "execution_count": null,
   "id": "778839b4",
   "metadata": {
    "id": "778839b4"
   },
   "outputs": [],
   "source": [
    "# Load the dataset. Clean it up by removing missing molecule features. \n",
    "# molecule_features: First col is a string containing name of molecule. Rest are floats containing its features\n",
    "# eutectic_compilation: First 2 cols are strings containing molecule names, third col is eutectic proportion, fourth is eutectic temperature\n",
    "molecule_features = pd.read_csv(\"D:\\\\Research\\\\UConn_ML\\\\data\\\\eutectic_mixtures-main\\\\single_components.csv\").drop([\"xlogp\", \"rotatable_bond_count\"], axis=1)\n",
    "eutectic_compilation = pd.read_csv(\"D:\\\\Research\\\\UConn_ML\\\\data\\\\eutectic_mixtures-main\\\\eutectic_compilation.csv\")\n",
    "\n",
    "molecule_features[molecule_features.columns[1:]] = molecule_features[molecule_features.columns[1:]].astype(float)\n",
    "eutectic_compilation[eutectic_compilation.columns[3]] = eutectic_compilation[eutectic_compilation.columns[3]].astype(float)"
   ]
  },
  {
   "cell_type": "code",
   "execution_count": null,
   "id": "5ed4c8cf",
   "metadata": {},
   "outputs": [],
   "source": [
    "# Some indices in eutectic_compilation do not exist in single_components. They will need to be removed.\n",
    "# Some of the eutectic proportions are inconvertible to floats from strings. They will also need to be removed.\n",
    "# missing_molecules will store all molecules that are missing features from eutectic_compilation\n",
    "drops = np.array([]).astype(int)\n",
    "missing_molecules = np.array([]).astype(str)\n",
    "for i in range(len(eutectic_compilation)):\n",
    "    ec = eutectic_compilation.iloc[i]\n",
    "    m1 = ec[0]\n",
    "    m2 = ec[1]\n",
    "    xe = ec[2]\n",
    "    \n",
    "    m1f = molecule_features.loc[molecule_features.mol == ec[0]]\n",
    "    m2f = molecule_features.loc[molecule_features.mol == ec[1]]\n",
    "    \n",
    "    try:\n",
    "        xe = float(xe)\n",
    "    except ValueError:\n",
    "        drops = np.append(drops, i)\n",
    "    \n",
    "    if(len(m1f) == 0 or len(m2f) == 0):\n",
    "        drops = np.append(drops, i)\n",
    "        \n",
    "        if(len(m1f) == 0):\n",
    "            missing_molecules = np.append(missing_molecules, m1)\n",
    "        elif(len(m2f) == 0):\n",
    "            missing_molecules = np.append(missing_molecules, m2)\n",
    "\n",
    "eutectic_compilation = eutectic_compilation.drop(eutectic_compilation.index[drops])\n",
    "# np.savetxt(\"missing_molecules.csv\", missing_molecules, delimiter=\",\", fmt=\"%s\")\n",
    "\n",
    "xe = torch.tensor(np.array(eutectic_compilation.xe).astype(float) / 100.0)\n",
    "eutectic_compilation.xe = xe"
   ]
  },
  {
   "cell_type": "code",
   "execution_count": null,
   "id": "00d8036b",
   "metadata": {},
   "outputs": [],
   "source": [
    "eutectic_compilation = eutectic_compilation.drop_duplicates(subset=['molA', 'molB'])"
   ]
  },
  {
   "cell_type": "code",
   "execution_count": null,
   "id": "733a601c",
   "metadata": {},
   "outputs": [],
   "source": [
    "# Split the eutectic compilation dataframe by a ratio into training and testing sets\n",
    "split = 0.90\n",
    "train_ec = eutectic_compilation.sample(frac=split)\n",
    "test_ec = eutectic_compilation.drop(train_ec.index)\n",
    "\n",
    "split = 0.15\n",
    "val_ec = train_ec.sample(frac=split)\n",
    "train_ec = train_ec.drop(val_ec.index)"
   ]
  },
  {
   "cell_type": "code",
   "execution_count": null,
   "id": "45227480",
   "metadata": {},
   "outputs": [],
   "source": [
    "# Obtain the indices of train, val, and test datasets in molecule_features\n",
    "trainindices = np.array([]).astype(int)\n",
    "valindices = np.array([]).astype(int)\n",
    "testindices = np.array([]).astype(int)\n",
    "\n",
    "for i in range(len(train_ec)):\n",
    "    line = train_ec.iloc[i]\n",
    "    \n",
    "    m1 = line[0]\n",
    "    m2 = line[1]\n",
    "    \n",
    "    trainindices = np.append(trainindices, np.where(molecule_features.mol == m1))\n",
    "    trainindices = np.append(trainindices, np.where(molecule_features.mol == m2))\n",
    "\n",
    "for i in range(len(val_ec)):\n",
    "    line = val_ec.iloc[i]\n",
    "    \n",
    "    m1 = line[0]\n",
    "    m2 = line[1]\n",
    "    \n",
    "    valindices = np.append(valindices, np.where(molecule_features.mol == m1))\n",
    "    valindices = np.append(valindices, np.where(molecule_features.mol == m2))\n",
    "    \n",
    "for i in range(len(test_ec)):\n",
    "    line = test_ec.iloc[i]\n",
    "    \n",
    "    m1 = line[0]\n",
    "    m2 = line[1]\n",
    "    \n",
    "    testindices = np.append(testindices, np.where(molecule_features.mol == m1))\n",
    "    testindices = np.append(testindices, np.where(molecule_features.mol == m2))\n",
    "    \n",
    "trainindices = np.unique(trainindices)\n",
    "valindices = np.unique(valindices)\n",
    "testindices = np.unique(testindices)"
   ]
  },
  {
   "cell_type": "code",
   "execution_count": null,
   "id": "f162831e",
   "metadata": {},
   "outputs": [],
   "source": [
    "address = ['n1', 'c1', 'n2', 'c2', 'n3', 'c3', 'n4', 'c4', 'n5', 'c5']\n",
    "for i in range(len(address)):\n",
    "    molecule_features[address[i]] = np.zeros((len(molecule_features)))"
   ]
  },
  {
   "cell_type": "code",
   "execution_count": null,
   "id": "491a03e2",
   "metadata": {
    "scrolled": false
   },
   "outputs": [],
   "source": [
    "# Add 8 more features using PubChemPy and test with those. In notepad file from meeting. \n",
    "importlib.reload(PT)\n",
    "pt = PT.PT()\n",
    "\n",
    "for m in range(len(molecule_features.mol)):\n",
    "    split = re.findall('[A-Z][^A-Z]*', re.sub('[^\\w]', \"\", molecule_features.mol[m])) \n",
    "    # split the molecule by elements (with count of each element) and remove any symbols (only letters and numbers)\n",
    "    \n",
    "    nummolecules = len(split) # obtain number of elements after split\n",
    "    atomic_nums = np.array([])\n",
    "    atomic_counts = np.array([])\n",
    "    masses = np.array([])\n",
    "    \n",
    "    for s in range(len(split)):\n",
    "        formula = re.sub('[^A-Za-z]', \"\", split[s]) # obtain each element alone\n",
    "        count = re.sub('[A-Za-z]', \"\", split[s]) # obtain the count of each element alone\n",
    "        \n",
    "        if count == \"\":\n",
    "            count = \"1\"\n",
    "        count = int(count) # convert the string to int\n",
    "        \n",
    "        # Obtain the atomic number and mass by using the formula from periodic table. \n",
    "        data = pt.get(formula)\n",
    "        atomic_nums = np.append(atomic_nums, data[0])\n",
    "        masses = np.append(masses, data[1])\n",
    "        atomic_counts = np.append(atomic_counts, count)\n",
    "        \n",
    "        # print(formula, count, type(formula), type(count)) # to see what prints\n",
    "        \n",
    "    # Sort in ascending order, the atomic numbers and counts by mass of atom\n",
    "    atomic_nums = [atomic_nums for _, atomic_nums in sorted(zip(masses, atomic_nums))]\n",
    "    atomic_counts = [atomic_counts for _, atomic_counts in sorted(zip(masses, atomic_counts))]\n",
    "    \n",
    "    # Add into the molecule_features dataframe in correct order\n",
    "    i = 0\n",
    "    j = 0\n",
    "    for i in range(len(atomic_nums)):\n",
    "        molecule_features[molecule_features.columns[j+5]][m] = atomic_nums[i]\n",
    "        molecule_features[molecule_features.columns[j+6]][m] = atomic_counts[i]\n",
    "        j += 2"
   ]
  },
  {
   "cell_type": "code",
   "execution_count": null,
   "id": "a48ee7da",
   "metadata": {},
   "outputs": [],
   "source": [
    "fig0, axes = plt.subplots(len(molecule_features.columns) - 1, 1)\n",
    "fig0.set_figheight(50)\n",
    "fig0.set_figwidth(15)\n",
    "\n",
    "for i in range(len(molecule_features.columns) - 1):\n",
    "    axes[i].boxplot(molecule_features[molecule_features.columns[i+1]], vert=False)\n",
    "    axes[i].set(ylabel=molecule_features.columns[i+1])\n",
    "\n",
    "fig0.savefig('D:\\\\Research\\\\UConn_ML\\\\Plots\\\\Feature_Box_Plots_8_17_22.png')"
   ]
  },
  {
   "cell_type": "code",
   "execution_count": null,
   "id": "068a9663",
   "metadata": {
    "scrolled": false
   },
   "outputs": [],
   "source": [
    "molecule_features"
   ]
  },
  {
   "cell_type": "code",
   "execution_count": null,
   "id": "519c0090",
   "metadata": {
    "scrolled": false
   },
   "outputs": [],
   "source": [
    "# Z-Score Scaler transformation on molecule features excluding new added features since they are almost categorical\n",
    "# scaler = StandardScaler()\n",
    "# scalecols = [1, 2, 3, 4, 5, 7, 9, 11, 13]\n",
    "# molecule_features.iloc[trainindices, scalecols] = scaler.fit_transform(molecule_features.iloc[trainindices, scalecols])\n",
    "# molecule_features.iloc[valindices, scalecols] = scaler.transform(molecule_features.iloc[valindices, scalecols])\n",
    "# molecule_features.iloc[testindices, scalecols] = scaler.transform(molecule_features.iloc[testindices, scalecols])"
   ]
  },
  {
   "cell_type": "code",
   "execution_count": null,
   "id": "d77da5e4",
   "metadata": {},
   "outputs": [],
   "source": [
    "molecule_features"
   ]
  },
  {
   "cell_type": "code",
   "execution_count": null,
   "id": "e968daea",
   "metadata": {
    "scrolled": false
   },
   "outputs": [],
   "source": [
    "eutectic_compilation"
   ]
  },
  {
   "cell_type": "code",
   "execution_count": null,
   "id": "b42baa62",
   "metadata": {},
   "outputs": [],
   "source": [
    "train_ec"
   ]
  },
  {
   "cell_type": "code",
   "execution_count": null,
   "id": "0457081e",
   "metadata": {},
   "outputs": [],
   "source": [
    "val_ec"
   ]
  },
  {
   "cell_type": "code",
   "execution_count": null,
   "id": "c4939382",
   "metadata": {},
   "outputs": [],
   "source": [
    "test_ec"
   ]
  },
  {
   "cell_type": "code",
   "execution_count": null,
   "id": "67c7794f",
   "metadata": {},
   "outputs": [],
   "source": [
    "print(\"Train Size: \", len(train_ec))\n",
    "print(\"Validation Size: \", len(val_ec))\n",
    "print(\"Test Size: \", len(test_ec))"
   ]
  },
  {
   "cell_type": "code",
   "execution_count": null,
   "id": "0479c0a1",
   "metadata": {},
   "outputs": [],
   "source": [
    "importlib.reload(MD)"
   ]
  },
  {
   "cell_type": "code",
   "execution_count": null,
   "id": "9dc0db10",
   "metadata": {},
   "outputs": [],
   "source": [
    "# Define parameters and datasets to pass into trainer. Pass in order of definition\n",
    "starting_features = 14\n",
    "batchsize = 100\n",
    "max_epochs = 15\n",
    "lrbase = 1e-6\n",
    "lrmax = 1e-3\n",
    "\n",
    "# For xe\n",
    "overfit_bound = 0.25\n",
    "# For Te\n",
    "# overfit_bound = 0.3\n",
    "\n",
    "train_dset = MD.MD(train_ec, molecule_features, starting_features)\n",
    "val_dset = MD.MD(val_ec, molecule_features, starting_features)\n",
    "test_dset = MD.MD(test_ec, molecule_features, starting_features)\n",
    "\n",
    "# The best constant value to use for MAE is the median of the dataset\n",
    "# MAE tells us how much + or - pred is from truth on average\n",
    "# train_constant = torch.std(torch.tensor(np.array(train_ec[\"xe\"]).astype(float)))**2\n",
    "train_constant = torch.mean(torch.tensor(np.array(train_ec[\"Te\"]).astype(float)))\n",
    "\n",
    "train_param = \"Te\""
   ]
  },
  {
   "cell_type": "code",
   "execution_count": null,
   "id": "e82fd55e",
   "metadata": {},
   "outputs": [],
   "source": [
    "importlib.reload(MR)\n",
    "importlib.reload(SNN)\n",
    "importlib.reload(SimpNN)\n",
    "modelrunner = MR.MR(starting_features, batchsize, max_epochs, lrbase, lrmax,\n",
    "                    train_dset, val_dset, test_dset, train_constant, train_param)"
   ]
  },
  {
   "cell_type": "code",
   "execution_count": null,
   "id": "c7370b45",
   "metadata": {
    "scrolled": false
   },
   "outputs": [],
   "source": [
    "trloss, trbase, vloss, vbase = modelrunner.train_and_validate('siam')"
   ]
  },
  {
   "cell_type": "code",
   "execution_count": null,
   "id": "d9d403d1",
   "metadata": {},
   "outputs": [],
   "source": [
    "outputs, invouts, truths, testloss, r2 = modelrunner.test()"
   ]
  },
  {
   "cell_type": "code",
   "execution_count": null,
   "id": "0f4399a7",
   "metadata": {
    "scrolled": false
   },
   "outputs": [],
   "source": [
    "simptrloss, simptrbase, simpvloss, simpvbase = modelrunner.train_and_validate('simp')"
   ]
  },
  {
   "cell_type": "code",
   "execution_count": null,
   "id": "96aeed35",
   "metadata": {},
   "outputs": [],
   "source": [
    "simpoutputs, simpinvouts, simptruths, simptestloss, simpr2 = modelrunner.test()"
   ]
  },
  {
   "cell_type": "code",
   "execution_count": null,
   "id": "9e327ba5",
   "metadata": {
    "scrolled": false
   },
   "outputs": [],
   "source": [
    "l1 = len(trloss)\n",
    "l2 = len(simptrloss)\n",
    "x1 = np.arange(l1)\n",
    "x2 = np.arange(l2)\n",
    "\n",
    "lossfig, axes = plt.subplots(2, 2)\n",
    "lossfig.set_figheight(15)\n",
    "lossfig.set_figwidth(15)\n",
    "            \n",
    "axes[0, 0].plot(x1, trloss[0:l1], label=\"Train Running Loss\", c=\"blue\")\n",
    "axes[0, 0].plot(x1, trbase[0:l1], label=\"Train Baseline Loss\", c=\"red\")\n",
    "axes[0, 0].set_title(\"Graph of Siamese NN Training Loss Against a Baseline\")\n",
    "axes[0, 0].set(xlabel=\"Epoch\", ylabel=\"Siamese MAE Loss\")\n",
    "axes[0, 0].legend(loc=\"upper right\")\n",
    "\n",
    "axes[0, 1].plot(x1, vloss[0:l1], label=\"Val Running Loss\", c=\"blue\")\n",
    "axes[0, 1].plot(x1, vbase[0:l1], label=\"Val Baseline Loss\", c=\"red\")\n",
    "axes[0, 1].set_title(\"Graph of Siamese NN Validation Loss Against a Baseline\")\n",
    "axes[0, 1].set(xlabel=\"Epoch\", ylabel=\"Siamese MAE Loss\")\n",
    "axes[0, 1].legend(loc=\"upper right\")\n",
    "\n",
    "axes[1, 0].plot(x2, simptrloss[0:l2], label=\"Train Running Loss\", c=\"blue\")\n",
    "axes[1, 0].plot(x2, simptrbase[0:l2], label=\"Train Baseline Loss\", c=\"red\")\n",
    "axes[1, 0].set_title(\"Graph of Simple NN Training Loss Against a Baseline\")\n",
    "axes[1, 0].set(xlabel=\"Epoch\", ylabel=\"Simple MAE Loss\")\n",
    "axes[1, 0].legend(loc=\"upper right\")\n",
    "\n",
    "axes[1, 1].plot(x2, simpvloss[0:l2], label=\"Val Running Loss\", c=\"blue\")\n",
    "axes[1, 1].plot(x2, simpvbase[0:l2], label=\"Val Baseline Loss\", c=\"red\")\n",
    "axes[1, 1].set_title(\"Graph of Simple NN Validation Loss Against a Baseline\")\n",
    "axes[1, 1].set(xlabel=\"Epoch\", ylabel=\"Simple MAE Loss\")\n",
    "axes[1, 1].legend(loc=\"upper right\")\n",
    "\n",
    "plt.show()"
   ]
  },
  {
   "cell_type": "code",
   "execution_count": null,
   "id": "6e1b1e0e",
   "metadata": {
    "scrolled": false
   },
   "outputs": [],
   "source": [
    "l = batchsize\n",
    "numplots = int(len(outputs) / l)\n",
    "siamfig, axes = plt.subplots(numplots, 2)\n",
    "siamfig.set_figheight(40)\n",
    "siamfig.set_figwidth(15)\n",
    "\n",
    "pred = 0\n",
    "succ = 1\n",
    "x = np.arange(l)\n",
    "acc = np.linspace(0, 1, 10)\n",
    "mae = np.round(testloss, 3)\n",
    "        \n",
    "for row in range(numplots):        \n",
    "    axes[row, 0].scatter(x, outputs[pred*l:succ*l] - truths[pred*l:succ*l], c=\"red\")\n",
    "    axes[row, 0].plot(x, np.zeros((l,)), c=\"green\", label=\"0 Point\")\n",
    "    axes[row, 0].set(xlabel=\"Data Points\", ylabel=\"Residuals\")\n",
    "    axes[row, 0].legend(loc=\"upper right\")\n",
    "\n",
    "    axes[row, 1].scatter(truths[pred*l:succ*l], outputs[pred*l:succ*l], c=\"green\")\n",
    "    axes[row, 1].plot(acc, acc, label=\"Accuracy Line\")\n",
    "    \n",
    "    if train_param == \"xe\":\n",
    "        axes[row, 1].set(xlabel=\"Actual Xe\", ylabel=\"Predicted Xe\")\n",
    "    else:\n",
    "        axes[row, 1].set(xlabel=\"Actual Te\", ylabel=\"Predicted Te\")\n",
    "\n",
    "    axes[row, 1].legend(loc=\"upper right\")\n",
    "            \n",
    "    pred += 1\n",
    "    succ += 1\n",
    "\n",
    "r2 = np.round(r2_score(truths, outputs), 3)\n",
    "\n",
    "if train_param == \"xe\":\n",
    "    axes[0, 0].set_title(\n",
    "        \"Residual plots of predicted and actual eutectic proportion Xe on SiamNN\\nMAE: {}\".format(mae))\n",
    "    axes[0, 1].set_title(\n",
    "        \"Scatter plots of predicted vs actual eutectic proportion Xe on SiamNN\\nR^2: {}\".format(r2))\n",
    "else: \n",
    "    axes[0, 0].set_title(\n",
    "        \"Residual plots of predicted and actual eutectic temperature Te on SiamNN\\nMAE: {}\".format(mae))\n",
    "    axes[0, 1].set_title(\n",
    "        \"Scatter plots of predicted vs actual eutectic temperature Te on SiamNN\\nR^2: {}\".format(r2))\n",
    "\n",
    "plt.show()"
   ]
  },
  {
   "cell_type": "code",
   "execution_count": null,
   "id": "3c4c2177",
   "metadata": {
    "scrolled": false
   },
   "outputs": [],
   "source": [
    "l = batchsize\n",
    "numplots = int(len(simpoutputs) / l)\n",
    "simpfig, axes = plt.subplots(numplots, 2)\n",
    "simpfig.set_figheight(45)\n",
    "simpfig.set_figwidth(15)\n",
    "\n",
    "pred = 0\n",
    "succ = 1\n",
    "x = np.arange(l)\n",
    "acc = np.linspace(0, 1, 10)\n",
    "mae = np.round(simptestloss, 3)\n",
    "r2 = 0\n",
    "        \n",
    "for row in range(numplots):        \n",
    "    axes[row, 0].scatter(x, simpoutputs[pred*l:succ*l] - simptruths[pred*l:succ*l], c=\"red\")\n",
    "    axes[row, 0].plot(x, np.zeros((l,)), c=\"green\", label=\"0 Point\")\n",
    "    axes[row, 0].set(xlabel=\"Data Points\", ylabel=\"Residuals\")\n",
    "    axes[row, 0].legend(loc=\"upper right\")\n",
    "\n",
    "    axes[row, 1].scatter(simptruths[pred*l:succ*l], simpoutputs[pred*l:succ*l], c=\"green\")\n",
    "    axes[row, 1].plot(acc, acc, label=\"Accuracy Line\")\n",
    "    \n",
    "    if train_param == \"xe\":\n",
    "        axes[row, 1].set(xlabel=\"Actual Xe\", ylabel=\"Predicted Xe\")\n",
    "    else:\n",
    "        axes[row, 1].set(xlabel=\"Actual Te\", ylabel=\"Predicted Te\")\n",
    "\n",
    "    axes[row, 1].legend(loc=\"upper right\")\n",
    "            \n",
    "    pred += 1\n",
    "    succ += 1\n",
    "\n",
    "r2 = np.round(r2_score(simptruths, simpoutputs), 3)\n",
    "\n",
    "if train_param == \"xe\":\n",
    "    axes[0, 0].set_title(\n",
    "        \"Residual plots of predicted and actual eutectic proportion Xe on SimpNN\\nMAE: {}\".format(mae))\n",
    "    axes[0, 1].set_title(\n",
    "        \"Scatter plots of predicted vs actual eutectic proportion Xe on SimpNN\\nR^2: {}\".format(r2))\n",
    "else: \n",
    "    axes[0, 0].set_title(\n",
    "        \"Residual plots of predicted and actual eutectic temperature Te on SimpNN\\nMAE: {}\".format(mae))\n",
    "    axes[0, 1].set_title(\n",
    "        \"Scatter plots of predicted vs actual eutectic temperature Te on SimpNN\\nR^2: {}\".format(r2))\n",
    "\n",
    "plt.show()"
   ]
  },
  {
   "cell_type": "code",
   "execution_count": null,
   "id": "6fe28f22",
   "metadata": {},
   "outputs": [],
   "source": [
    "# Print the values from the last batch processed just for the user to see\n",
    "if train_param == \"xe\":\n",
    "    disp = pd.DataFrame({\n",
    "        'f(A,B) + f(B,A)': outputs + invouts,\n",
    "        'Truth': np.round(truths, 3),\n",
    "        'Siamese Pred': np.round(outputs, 3),\n",
    "        'Simple Pred': np.round(simpoutputs, 3)\n",
    "    })\n",
    "else:\n",
    "    disp = pd.DataFrame({\n",
    "        'Truth': np.round(truths, 3),\n",
    "        'Siamese Pred': np.round(outputs, 3), \n",
    "        'Simple Pred': np.round(simpoutputs, 3)\n",
    "    })\n",
    "        \n",
    "disp.style.set_properties(**{'width': '150px'})"
   ]
  },
  {
   "cell_type": "code",
   "execution_count": null,
   "id": "02b2836f",
   "metadata": {},
   "outputs": [],
   "source": [
    "# lossfig.savefig('D:\\\\Research\\\\UConn_ML\\\\Plots\\\\Lossplots_8_17_22.png')\n",
    "# siamfig.savefig('D:\\\\Research\\\\UConn_ML\\\\Plots\\\\SiamNNplots_8_17_22.png')\n",
    "# simpfig.savefig('D:\\\\Research\\\\UConn_ML\\\\Plots\\\\SimpNNplots_8_17_22.png')"
   ]
  }
 ],
 "metadata": {
  "colab": {
   "collapsed_sections": [],
   "name": "snn.ipynb",
   "provenance": []
  },
  "kernelspec": {
   "display_name": "Python 3 (ipykernel)",
   "language": "python",
   "name": "python3"
  },
  "language_info": {
   "codemirror_mode": {
    "name": "ipython",
    "version": 3
   },
   "file_extension": ".py",
   "mimetype": "text/x-python",
   "name": "python",
   "nbconvert_exporter": "python",
   "pygments_lexer": "ipython3",
   "version": "3.9.12"
  }
 },
 "nbformat": 4,
 "nbformat_minor": 5
}
